{
 "cells": [
  {
   "cell_type": "markdown",
   "metadata": {
    "id": "YoTVCUtTQL6c"
   },
   "source": [
    "# TP 1: LDA/QDA y optimización matemática de modelos"
   ]
  },
  {
   "cell_type": "markdown",
   "metadata": {
    "id": "4kL_4etdeizy"
   },
   "source": [
    "# Intro teórica\n",
    "\n",
    "## Definición: Clasificador Bayesiano\n",
    "\n",
    "Sean $k$ poblaciones, $x \\in \\mathbb{R}^p$ puede pertenecer a cualquiera $g \\in \\mathcal{G}$ de ellas. Bajo un esquema bayesiano, se define entonces $\\pi_j \\doteq P(G = j)$ la probabilidad *a priori* de que $X$ pertenezca a la clase *j*, y se **asume conocida** la distribución condicional de cada observable dado su clase $f_j \\doteq f_{X|G=j}$.\n",
    "\n",
    "De esta manera dicha probabilidad *a posteriori* resulta\n",
    "$$\n",
    "P(G|_{X=x} = j) = \\frac{f_{X|G=j}(x) \\cdot p_G(j)}{f_X(x)} \\propto f_j(x) \\cdot \\pi_j\n",
    "$$\n",
    "\n",
    "La regla de decisión de Bayes es entonces\n",
    "$$\n",
    "H(x) \\doteq \\arg \\max_{g \\in \\mathcal{G}} \\{ P(G|_{X=x} = j) \\} = \\arg \\max_{g \\in \\mathcal{G}} \\{ f_j(x) \\cdot \\pi_j \\}\n",
    "$$\n",
    "\n",
    "es decir, se predice a $x$ como perteneciente a la población $j$ cuya probabilidad a posteriori es máxima.\n",
    "\n",
    "*Ojo, a no desesperar! $\\pi_j$ no es otra cosa que una constante prefijada, y $f_j$ es, en su esencia, un campo escalar de $x$ a simplemente evaluar.*\n",
    "\n",
    "## Distribución condicional\n",
    "\n",
    "Para los clasificadores de discriminante cuadrático y lineal (QDA/LDA) se asume que $X|_{G=j} \\sim \\mathcal{N}_p(\\mu_j, \\Sigma_j)$, es decir, se asume que cada población sigue una distribución normal.\n",
    "\n",
    "Por definición, se tiene entonces que para una clase $j$:\n",
    "$$\n",
    "f_j(x) = \\frac{1}{(2 \\pi)^\\frac{p}{2} \\cdot |\\Sigma_j|^\\frac{1}{2}} e^{- \\frac{1}{2}(x-\\mu_j)^T \\Sigma_j^{-1} (x- \\mu_j)}\n",
    "$$\n",
    "\n",
    "Aplicando logaritmo (que al ser una función estrictamente creciente no afecta el cálculo de máximos/mínimos), queda algo mucho más práctico de trabajar:\n",
    "\n",
    "$$\n",
    "\\log{f_j(x)} = -\\frac{1}{2}\\log |\\Sigma_j| - \\frac{1}{2} (x-\\mu_j)^T \\Sigma_j^{-1} (x- \\mu_j) + C\n",
    "$$\n",
    "\n",
    "Observar que en este caso $C=-\\frac{p}{2} \\log(2\\pi)$, pero no se tiene en cuenta ya que al tener una constante aditiva en todas las clases, no afecta al cálculo del máximo.\n",
    "\n",
    "## LDA\n",
    "\n",
    "En el caso de LDA se hace una suposición extra, que es $X|_{G=j} \\sim \\mathcal{N}_p(\\mu_j, \\Sigma)$, es decir que las poblaciones no sólo siguen una distribución normal sino que son de igual matriz de covarianzas. Reemplazando arriba se obtiene entonces:\n",
    "\n",
    "$$\n",
    "\\log{f_j(x)} =  -\\frac{1}{2}\\log |\\Sigma| - \\frac{1}{2} (x-\\mu_j)^T \\Sigma^{-1} (x- \\mu_j) + C\n",
    "$$\n",
    "\n",
    "Ahora, como $-\\frac{1}{2}\\log |\\Sigma|$ es común a todas las clases se puede incorporar a la constante aditiva y, distribuyendo y reagrupando términos sobre $(x-\\mu_j)^T \\Sigma^{-1} (x- \\mu_j)$ se obtiene finalmente:\n",
    "\n",
    "$$\n",
    "\\log{f_j(x)} =  \\mu_j^T \\Sigma^{-1} (x- \\frac{1}{2} \\mu_j) + C'\n",
    "$$\n",
    "\n",
    "## Entrenamiento/Ajuste\n",
    "\n",
    "Obsérvese que para ambos modelos, ajustarlos a los datos implica estimar los parámetros $(\\mu_j, \\Sigma_j) \\; \\forall j = 1, \\dots, k$ en el caso de QDA, y $(\\mu_j, \\Sigma)$ para LDA.\n",
    "\n",
    "Estos parámetros se estiman por máxima verosimilitud, de manera que los estimadores resultan:\n",
    "\n",
    "* $\\hat{\\mu}_j = \\bar{x}_j$ el promedio de los $x$ de la clase *j*\n",
    "* $\\hat{\\Sigma}_j = s^2_j$ la matriz de covarianzas estimada para cada clase *j*\n",
    "* $\\hat{\\pi}_j = f_{R_j} = \\frac{n_j}{n}$ la frecuencia relativa de la clase *j* en la muestra\n",
    "* $\\hat{\\Sigma} = \\frac{1}{n} \\sum_{j=1}^k n_j \\cdot s^2_j$ el promedio ponderado (por frecs. relativas) de las matrices de covarianzas de todas las clases. *Observar que se utiliza el estimador de MV y no el insesgado*\n",
    "\n",
    "Es importante notar que si bien todos los $\\mu, \\Sigma$ deben ser estimados, la distribución *a priori* puede no inferirse de los datos sino asumirse previamente, utilizándose como entrada del modelo.\n",
    "\n",
    "## Predicción\n",
    "\n",
    "Para estos modelos, al igual que para cualquier clasificador Bayesiano del tipo antes visto, la estimación de la clase es por método *plug-in* sobre la regla de decisión $H(x)$, es decir devolver la clase que maximiza $\\hat{f}_j(x) \\cdot \\hat{\\pi}_j$, o lo que es lo mismo $\\log\\hat{f}_j(x) + \\log\\hat{\\pi}_j$."
   ]
  },
  {
   "cell_type": "markdown",
   "metadata": {
    "id": "IV8OF-SlPHbD"
   },
   "source": [
    "# Código provisto\n",
    "\n",
    "Con el fin de no retrasar al alumno con cuestiones estructurales y/o secundarias al tema que se pretende tratar, se provee una base de código que **no es obligatoria de usar** pero se asume que resulta resulta beneficiosa."
   ]
  },
  {
   "cell_type": "code",
   "execution_count": 1,
   "metadata": {
    "id": "PrDdJRypNB-y"
   },
   "outputs": [],
   "source": [
    "import numpy as np\n",
    "import pandas as pd\n",
    "import numpy.linalg as LA\n",
    "from scipy.linalg import cholesky, solve_triangular\n",
    "from scipy.linalg.lapack import dtrtri"
   ]
  },
  {
   "cell_type": "markdown",
   "metadata": {
    "id": "5cPL33WIN2HA"
   },
   "source": [
    "## Base code"
   ]
  },
  {
   "cell_type": "code",
   "execution_count": 2,
   "metadata": {
    "id": "ewg5e0hsNTQC"
   },
   "outputs": [],
   "source": [
    "class BaseBayesianClassifier:\n",
    "  def __init__(self):\n",
    "    pass\n",
    "\n",
    "  def _estimate_a_priori(self, y):\n",
    "    a_priori = np.bincount(y.flatten().astype(int)) / y.size\n",
    "    #print(\"a_priori shape= \", a_priori.shape)\n",
    "    #print(\"a_priori= \", a_priori)\n",
    "    # Q3: para que sirve bincount?\n",
    "    # R3: Crea un vector con la cantidad de ocurrencias de cada entero dentro de y\n",
    "    return np.log(a_priori)\n",
    "\n",
    "  def _fit_params(self, X, y):\n",
    "    # estimate all needed parameters for given model\n",
    "    raise NotImplementedError()\n",
    "\n",
    "  def _predict_log_conditional(self, x, class_idx):\n",
    "    # predict the log(P(x|G=class_idx)), the log of the conditional probability of x given the class\n",
    "    # this should depend on the model used\n",
    "    raise NotImplementedError()\n",
    "\n",
    "  def fit(self, X, y, a_priori=None):\n",
    "    # if it's needed, estimate a priori probabilities\n",
    "    self.log_a_priori = self._estimate_a_priori(y) if a_priori is None else np.log(a_priori)\n",
    "\n",
    "    # now that everything else is in place, estimate all needed parameters for given model\n",
    "    self._fit_params(X, y)\n",
    "    # Q4: por que el _fit_params va al final? no se puede mover a, por ejemplo, antes de la priori?\n",
    "    # R4: porque el _fit_params depende de la priori, y la priori se calcula antes\n",
    "\n",
    "  def predict(self, X):\n",
    "    # this is actually an individual prediction encased in a for-loop\n",
    "    m_obs = X.shape[1]\n",
    "    y_hat = np.empty(m_obs, dtype=int)\n",
    "    #print(\"y_hat shape= \", y_hat.shape)\n",
    "    #print(\"y_hat= \", y_hat)\n",
    "\n",
    "    for i in range(m_obs):\n",
    "      y_hat[i] = self._predict_one(X[:,i].reshape(-1,1))\n",
    "\n",
    "    # return prediction as a row vector (matching y)\n",
    "    return y_hat.reshape(1,-1)\n",
    "\n",
    "  def _predict_one(self, x):\n",
    "    # calculate all log posteriori probabilities (actually, +C)\n",
    "    log_posteriori = [ log_a_priori_i + self._predict_log_conditional(x, idx) for idx, log_a_priori_i\n",
    "                  in enumerate(self.log_a_priori) ]\n",
    "    # return the class that has maximum a posteriori probability\n",
    "    #print(\"log_posteriori= \", log_posteriori)\n",
    "    return np.argmax(log_posteriori)"
   ]
  },
  {
   "cell_type": "code",
   "execution_count": 3,
   "metadata": {
    "id": "Rz2FC7A5NUpN"
   },
   "outputs": [],
   "source": [
    "class QDA(BaseBayesianClassifier):\n",
    "\n",
    "  def _fit_params(self, X, y):\n",
    "    # estimate each covariance matrix\n",
    "    print(\"X shape= \", X.shape)\n",
    "    print(\"y shape= \", y.shape)\n",
    "    # print(\"y.flatten\", y.flatten())\n",
    "    self.inv_covs = [LA.inv(np.cov(X[:,y.flatten()==idx], bias=True))\n",
    "                      for idx in range(len(self.log_a_priori))]\n",
    "    # Q5: por que hace falta el flatten y no se puede directamente X[:,y==idx]?\n",
    "    # R5: porque y es un vector columna y no se puede comparar con un vector fila. \n",
    "    # Flatten en este caso lo convierte en arreglo de 1D y entonces si se puede hacer la comparacion con idx.\n",
    "    # Q6: por que se usa bias=True en vez del default bias=False?\n",
    "    # R6: porque bias=False hace que la matriz de covarianza sea insesgada.\n",
    "\n",
    "    self.means = [X[:,y.flatten()==idx].mean(axis=1, keepdims=True)\n",
    "                  for idx in range(len(self.log_a_priori))]\n",
    "    # Q7: que hace axis=1? por que no axis=0?\n",
    "    # R7: axis=1 indica que el promedio se debe calcular por columnas y no por filas.\n",
    "\n",
    "  def _predict_log_conditional(self, x, class_idx):\n",
    "    # predict the log(P(x|G=class_idx)), the log of the conditional probability of x given the class\n",
    "    # this should depend on the model used\n",
    "    inv_cov = self.inv_covs[class_idx]\n",
    "    unbiased_x =  x - self.means[class_idx]\n",
    "    return 0.5*np.log(LA.det(inv_cov)) -0.5 * unbiased_x.T @ inv_cov @ unbiased_x"
   ]
  },
  {
   "cell_type": "code",
   "execution_count": 4,
   "metadata": {
    "id": "9lZbID0WNV1Y"
   },
   "outputs": [],
   "source": [
    "class TensorizedQDA(QDA):\n",
    "\n",
    "    def _fit_params(self, X, y):\n",
    "        # ask plain QDA to fit params\n",
    "        super()._fit_params(X,y)\n",
    "\n",
    "        # stack onto new dimension\n",
    "        self.tensor_inv_cov = np.stack(self.inv_covs)\n",
    "        self.tensor_means = np.stack(self.means)\n",
    "\n",
    "    def _predict_log_conditionals(self,x):\n",
    "        unbiased_x = x - self.tensor_means\n",
    "        inner_prod = unbiased_x.transpose(0,2,1) @ self.tensor_inv_cov @ unbiased_x\n",
    "\n",
    "        return 0.5*np.log(LA.det(self.tensor_inv_cov)) - 0.5 * inner_prod.flatten()\n",
    "\n",
    "    def _predict_one(self, x):\n",
    "        # return the class that has maximum a posteriori probability\n",
    "        return np.argmax(self.log_a_priori + self._predict_log_conditionals(x))"
   ]
  },
  {
   "cell_type": "code",
   "execution_count": 5,
   "metadata": {
    "id": "i-WGGi_sQ-pT"
   },
   "outputs": [],
   "source": [
    "class QDA_Chol1(BaseBayesianClassifier):\n",
    "  def _fit_params(self, X, y):\n",
    "    self.L_invs = [\n",
    "        LA.inv(cholesky(np.cov(X[:,y.flatten()==idx], bias=True), lower=True))\n",
    "        for idx in range(len(self.log_a_priori))\n",
    "    ]\n",
    "\n",
    "    self.means = [X[:,y.flatten()==idx].mean(axis=1, keepdims=True)\n",
    "                  for idx in range(len(self.log_a_priori))]\n",
    "\n",
    "  def _predict_log_conditional(self, x, class_idx):\n",
    "    L_inv = self.L_invs[class_idx]\n",
    "    unbiased_x =  x - self.means[class_idx]\n",
    "\n",
    "    y = L_inv @ unbiased_x\n",
    "\n",
    "    return np.log(L_inv.diagonal().prod()) -0.5 * (y**2).sum()"
   ]
  },
  {
   "cell_type": "code",
   "execution_count": 6,
   "metadata": {
    "id": "i5DNLtYbQsHi"
   },
   "outputs": [],
   "source": [
    "class QDA_Chol2(BaseBayesianClassifier):\n",
    "  def _fit_params(self, X, y):\n",
    "    self.Ls = [\n",
    "        cholesky(np.cov(X[:,y.flatten()==idx], bias=True), lower=True)\n",
    "        for idx in range(len(self.log_a_priori))\n",
    "    ]\n",
    "\n",
    "    self.means = [X[:,y.flatten()==idx].mean(axis=1, keepdims=True)\n",
    "                  for idx in range(len(self.log_a_priori))]\n",
    "\n",
    "  def _predict_log_conditional(self, x, class_idx):\n",
    "    L = self.Ls[class_idx]\n",
    "    unbiased_x =  x - self.means[class_idx]\n",
    "\n",
    "    y = solve_triangular(L, unbiased_x, lower=True)\n",
    "\n",
    "    return -np.log(L.diagonal().prod()) -0.5 * (y**2).sum()"
   ]
  },
  {
   "cell_type": "code",
   "execution_count": 7,
   "metadata": {
    "id": "v0dRvYVQRCgc"
   },
   "outputs": [],
   "source": [
    "class QDA_Chol3(BaseBayesianClassifier):\n",
    "  def _fit_params(self, X, y):\n",
    "    self.L_invs = [\n",
    "        dtrtri(cholesky(np.cov(X[:,y.flatten()==idx], bias=True), lower=True), lower=1)[0]\n",
    "        for idx in range(len(self.log_a_priori))\n",
    "    ]\n",
    "\n",
    "    self.means = [X[:,y.flatten()==idx].mean(axis=1, keepdims=True)\n",
    "                  for idx in range(len(self.log_a_priori))]\n",
    "\n",
    "  def _predict_log_conditional(self, x, class_idx):\n",
    "    L_inv = self.L_invs[class_idx]\n",
    "    unbiased_x =  x - self.means[class_idx]\n",
    "\n",
    "    y = L_inv @ unbiased_x\n",
    "\n",
    "    return np.log(L_inv.diagonal().prod()) -0.5 * (y**2).sum()"
   ]
  },
  {
   "cell_type": "markdown",
   "metadata": {
    "id": "JCtrHQDuN6R4"
   },
   "source": [
    "## Datasets"
   ]
  },
  {
   "cell_type": "code",
   "execution_count": 8,
   "metadata": {
    "id": "rasInBMFNzUH"
   },
   "outputs": [],
   "source": [
    "from sklearn.datasets import load_iris, fetch_openml, load_wine\n",
    "from sklearn.preprocessing import LabelEncoder\n",
    "from sklearn.model_selection import train_test_split\n",
    "\n",
    "def get_iris_dataset():\n",
    "  data = load_iris()\n",
    "  X_full = data.data\n",
    "  y_full = np.array([data.target_names[y] for y in data.target.reshape(-1,1)])\n",
    "  return X_full, y_full\n",
    "\n",
    "def get_penguins_dataset():\n",
    "    # get data\n",
    "    df, tgt = fetch_openml(name=\"penguins\", return_X_y=True, as_frame=True, parser='auto')\n",
    "\n",
    "    # drop non-numeric columns\n",
    "    df.drop(columns=[\"island\",\"sex\"], inplace=True)\n",
    "\n",
    "    # drop rows with missing values\n",
    "    mask = df.isna().sum(axis=1) == 0\n",
    "    df = df[mask]\n",
    "    tgt = tgt[mask]\n",
    "\n",
    "    return df.values, tgt.to_numpy().reshape(-1,1)\n",
    "\n",
    "def get_wine_dataset():\n",
    "    # get data\n",
    "    data = load_wine()\n",
    "    X_full = data.data\n",
    "    y_full = np.array([data.target_names[y] for y in data.target.reshape(-1,1)])\n",
    "    return X_full, y_full\n",
    "\n",
    "def get_letters_dataset():\n",
    "    # get data\n",
    "    letter = fetch_openml('letter', version=1, as_frame=False)\n",
    "    return letter.data, letter.target.reshape(-1,1)\n",
    "\n",
    "def label_encode(y_full):\n",
    "    return LabelEncoder().fit_transform(y_full.flatten()).reshape(y_full.shape)\n",
    "\n",
    "def split_transpose(X, y, test_size, random_state):\n",
    "    # X_train, X_test, y_train, y_test but all transposed\n",
    "    return [elem.T for elem in train_test_split(X, y, test_size=test_size, random_state=random_state)]"
   ]
  },
  {
   "cell_type": "markdown",
   "metadata": {
    "id": "ybPkuBdDN42P"
   },
   "source": [
    "## Benchmarking\n",
    "\n",
    "Nota: esta clase fue creada bastante rápido y no pretende ser una plataforma súper confiable sobre la que basarse, sino más bien una herramienta simple con la que poder medir varios runs y agregar la información.\n",
    "\n",
    "En forma rápida, `warmup` es la cantidad de runs para warmup, `mem_runs` es la cantidad de runs en las que se mide el pico de uso de RAM y `n_runs` es la cantidad de runs en las que se miden tiempos.\n",
    "\n",
    "La razón por la que se separan es que medir memoria hace ~2.5x más lento cada run, pero al mismo tiempo se estabiliza mucho más rápido.\n",
    "\n",
    "**Importante:** tener en cuenta que los modelos que predicen en batch (usan `predict` directamente) deberían consumir, como mínimo, $n$ veces la memoria de los que predicen por observación."
   ]
  },
  {
   "cell_type": "code",
   "execution_count": 9,
   "metadata": {
    "id": "nO4Py3CeNpKu"
   },
   "outputs": [],
   "source": [
    "import time\n",
    "from tqdm.notebook import tqdm\n",
    "from numpy.random import RandomState\n",
    "import tracemalloc\n",
    "\n",
    "RNG_SEED = 6553\n",
    "\n",
    "class Benchmark:\n",
    "    def __init__(self, X, y, n_runs=1000, warmup=100, mem_runs=100, test_sz=0.3, rng_seed=RNG_SEED, same_splits=True):\n",
    "        self.X = X\n",
    "        self.y = y\n",
    "        self.n = n_runs\n",
    "        self.warmup = warmup\n",
    "        self.mem_runs = mem_runs\n",
    "        self.test_sz = test_sz\n",
    "        self.det = same_splits\n",
    "        if self.det:\n",
    "            self.rng_seed = rng_seed\n",
    "        else:\n",
    "            self.rng = RandomState(rng_seed)\n",
    "\n",
    "        self.data = dict()\n",
    "\n",
    "        print(\"Benching params:\")\n",
    "        print(\"Total runs:\",self.warmup+self.mem_runs+self.n)\n",
    "        print(\"Warmup runs:\",self.warmup)\n",
    "        print(\"Peak Memory usage runs:\", self.mem_runs)\n",
    "        print(\"Running time runs:\", self.n)\n",
    "        approx_test_sz = int(self.y.size * self.test_sz)\n",
    "        print(\"Train size rows (approx):\",self.y.size - approx_test_sz)\n",
    "        print(\"Test size rows (approx):\",approx_test_sz)\n",
    "        print(\"Test size fraction:\",self.test_sz)\n",
    "\n",
    "    def bench(self, model_class, **kwargs):\n",
    "        name = model_class.__name__\n",
    "        time_data = np.empty((self.n, 3), dtype=float)  # train_time, test_time, accuracy\n",
    "        mem_data = np.empty((self.mem_runs, 2), dtype=float)  # train_peak_mem, test_peak_mem\n",
    "        rng = RandomState(self.rng_seed) if self.det else self.rng\n",
    "\n",
    "\n",
    "        for i in range(self.warmup):\n",
    "            # Instantiate model with error check for unsupported parameters\n",
    "            model = model_class(**kwargs)\n",
    "\n",
    "            # Generate current train-test split\n",
    "            X_train, X_test, y_train, y_test = split_transpose(\n",
    "                self.X, self.y,\n",
    "                test_size=self.test_sz,\n",
    "                random_state=rng\n",
    "            )\n",
    "            # Run training and prediction (timing or memory measurement not recorded)\n",
    "            model.fit(X_train, y_train)\n",
    "            model.predict(X_test)\n",
    "\n",
    "        for i in tqdm(range(self.mem_runs), total=self.mem_runs, desc=f\"{name} (MEM)\"):\n",
    "\n",
    "            model = model_class(**kwargs)\n",
    "\n",
    "            X_train, X_test, y_train, y_test = split_transpose(\n",
    "                self.X, self.y,\n",
    "                test_size=self.test_sz,\n",
    "                random_state=rng\n",
    "            )\n",
    "\n",
    "            tracemalloc.start()\n",
    "\n",
    "            t1 = time.perf_counter()\n",
    "            model.fit(X_train, y_train)\n",
    "            t2 = time.perf_counter()\n",
    "\n",
    "            _, train_peak = tracemalloc.get_traced_memory()\n",
    "            tracemalloc.reset_peak()\n",
    "\n",
    "            model.predict(X_test)\n",
    "            t3 = time.perf_counter()\n",
    "            _, test_peak = tracemalloc.get_traced_memory()\n",
    "            tracemalloc.stop()\n",
    "\n",
    "            mem_data[i,] = (\n",
    "                train_peak / (1024 * 1024),\n",
    "                test_peak / (1024 * 1024)\n",
    "            )\n",
    "\n",
    "        for i in tqdm(range(self.n), total=self.n, desc=f\"{name} (TIME)\"):\n",
    "            model = model_class(**kwargs)\n",
    "\n",
    "            X_train, X_test, y_train, y_test = split_transpose(\n",
    "                self.X, self.y,\n",
    "                test_size=self.test_sz,\n",
    "                random_state=rng\n",
    "            )\n",
    "\n",
    "            t1 = time.perf_counter()\n",
    "            model.fit(X_train, y_train)\n",
    "            t2 = time.perf_counter()\n",
    "            preds = model.predict(X_test)\n",
    "            t3 = time.perf_counter()\n",
    "\n",
    "            time_data[i,] = (\n",
    "                (t2 - t1) * 1000,\n",
    "                (t3 - t2) * 1000,\n",
    "                (y_test.flatten() == preds.flatten()).mean()\n",
    "            )\n",
    "\n",
    "        self.data[name] = (time_data, mem_data)\n",
    "\n",
    "    def summary(self, baseline=None):\n",
    "        aux = []\n",
    "        for name, (time_data, mem_data) in self.data.items():\n",
    "            result = {\n",
    "                'model': name,\n",
    "                'train_mean_ms': time_data[:, 0].mean(),\n",
    "                'train_std_ms': time_data[:, 0].std(),\n",
    "                'test_mean_ms': time_data[:, 1].mean(),\n",
    "                'test_std_ms': time_data[:, 1].std(),\n",
    "                'mean_accuracy': time_data[:, 2].mean(),\n",
    "                'train_mem_mean_mb': mem_data[:, 0].mean(),\n",
    "                'train_mem_std_mb': mem_data[:, 0].std(),\n",
    "                'test_mem_mean_mb': mem_data[:, 1].mean(),\n",
    "                'test_mem_std_mb': mem_data[:, 1].std()\n",
    "            }\n",
    "            aux.append(result)\n",
    "        df = pd.DataFrame(aux).set_index('model')\n",
    "\n",
    "        if baseline is not None and baseline in self.data:\n",
    "            df['train_speedup'] = df.loc[baseline, 'train_mean_ms'] / df['train_mean_ms']\n",
    "            df['test_speedup'] = df.loc[baseline, 'test_mean_ms'] / df['test_mean_ms']\n",
    "            df['train_mem_reduction'] = df.loc[baseline, 'train_mem_mean_mb'] / df['train_mem_mean_mb']\n",
    "            df['test_mem_reduction'] = df.loc[baseline, 'test_mem_mean_mb'] / df['test_mem_mean_mb']\n",
    "        return df"
   ]
  },
  {
   "cell_type": "markdown",
   "metadata": {
    "id": "mb5VEpEugFXW"
   },
   "source": [
    "## Ejemplo"
   ]
  },
  {
   "cell_type": "code",
   "execution_count": 10,
   "metadata": {
    "colab": {
     "base_uri": "https://localhost:8080/"
    },
    "id": "fLyr4-hdgJ7e",
    "outputId": "bfa9623f-2baf-4735-96b5-c714b244b8da"
   },
   "outputs": [
    {
     "data": {
      "text/plain": [
       "((178, 13), (178, 1))"
      ]
     },
     "execution_count": 10,
     "metadata": {},
     "output_type": "execute_result"
    }
   ],
   "source": [
    "# levantamos el dataset Wine, que tiene 13 features y 178 observaciones en total\n",
    "X_full, y_full = get_wine_dataset()\n",
    "\n",
    "X_full.shape, y_full.shape"
   ]
  },
  {
   "cell_type": "code",
   "execution_count": 11,
   "metadata": {
    "colab": {
     "base_uri": "https://localhost:8080/"
    },
    "id": "ZxQlFUSbgYHQ",
    "outputId": "dd396038-8bab-4ebd-b981-752526d8c98c"
   },
   "outputs": [
    {
     "name": "stdout",
     "output_type": "stream",
     "text": [
      "y_full shape=  (178, 1)\n",
      "y_full_encoded shape=  (178, 1)\n"
     ]
    },
    {
     "data": {
      "text/plain": [
       "(array([['class_0'],\n",
       "        ['class_0'],\n",
       "        ['class_0'],\n",
       "        ['class_0'],\n",
       "        ['class_0']], dtype='<U7'),\n",
       " array([[0],\n",
       "        [0],\n",
       "        [0],\n",
       "        [0],\n",
       "        [0]]))"
      ]
     },
     "execution_count": 11,
     "metadata": {},
     "output_type": "execute_result"
    }
   ],
   "source": [
    "# encodeamos a número las clases\n",
    "y_full_encoded = label_encode(y_full)\n",
    "print(\"y_full shape= \", y_full.shape)\n",
    "print(\"y_full_encoded shape= \", y_full_encoded.shape)\n",
    "\n",
    "y_full[:5], y_full_encoded[:5]"
   ]
  },
  {
   "cell_type": "code",
   "execution_count": 12,
   "metadata": {
    "colab": {
     "base_uri": "https://localhost:8080/"
    },
    "id": "pSBNNUOmgtsI",
    "outputId": "d29b11de-b5a9-4fa3-f009-d8780104fa64"
   },
   "outputs": [
    {
     "name": "stdout",
     "output_type": "stream",
     "text": [
      "Benching params:\n",
      "Total runs: 6\n",
      "Warmup runs: 2\n",
      "Peak Memory usage runs: 2\n",
      "Running time runs: 2\n",
      "Train size rows (approx): 125\n",
      "Test size rows (approx): 53\n",
      "Test size fraction: 0.3\n"
     ]
    }
   ],
   "source": [
    "# generamos el benchmark\n",
    "# observar que son valores muy bajos de runs para que corra rápido ahora\n",
    "b = Benchmark(\n",
    "    X_full, y_full_encoded,\n",
    "    n_runs = 2,\n",
    "    warmup = 2,\n",
    "    mem_runs = 2,\n",
    "    test_sz = 0.3,\n",
    "    same_splits = False\n",
    ")"
   ]
  },
  {
   "cell_type": "code",
   "execution_count": 13,
   "metadata": {
    "colab": {
     "base_uri": "https://localhost:8080/",
     "height": 81,
     "referenced_widgets": [
      "2add89be4e944f4fbd91c5f1d459b5cb",
      "e0a05e28520841bd95e2aec19da024bd",
      "c406ae72dbf14856971c0ac3ad078062",
      "ca156cc465e1415b8df2a570abfa3ffe",
      "40416335cca64bbbad37afc46049363d",
      "4531ea3385d34454865e3c6ced188122",
      "a9bc2a66f8a84516a44d8d3ad8e885e2",
      "43ef5277fff74410bb85f09e64c37cfe",
      "d7276daf0b654112aab411ae3f14649f",
      "68a99e1ecb9741f688cb33bbfc19d5d2",
      "cec5bcb756694268abfc4eefad72f758",
      "0878ca0785b74f4fa8abce52c184ce33",
      "9cb5b6651bac47d0b99c9388def7d2e6",
      "ec4d02ef09c5492ab097ef02b9d3e2fb",
      "ed4b7065efa24e5da4f69c047647c047",
      "08dc6e2b043f409f8f8df2b63f6bc152",
      "f7bc1a202cde4351a6f98ae19393cf94",
      "caea67fec94c45a097cae720b582c68d",
      "c136c5327b804c74b0582ed04c8825dc",
      "b2d747a3bfdd4f4797f7e4b01964aa7b",
      "a5957e8514974187838fc2d43d548433",
      "38dcdaf521fe4043b7bc5fac762867e1"
     ]
    },
    "id": "zUciOjazhUu5",
    "outputId": "91fc0889-7a87-418e-9950-88371c912be9"
   },
   "outputs": [
    {
     "name": "stdout",
     "output_type": "stream",
     "text": [
      "X shape=  (13, 124)\n",
      "y shape=  (1, 124)\n",
      "X shape=  (13, 124)\n",
      "y shape=  (1, 124)\n"
     ]
    },
    {
     "data": {
      "application/vnd.jupyter.widget-view+json": {
       "model_id": "88d3750d2c204112ae3701efe828b844",
       "version_major": 2,
       "version_minor": 0
      },
      "text/plain": [
       "QDA (MEM):   0%|          | 0/2 [00:00<?, ?it/s]"
      ]
     },
     "metadata": {},
     "output_type": "display_data"
    },
    {
     "name": "stdout",
     "output_type": "stream",
     "text": [
      "X shape=  (13, 124)\n",
      "y shape=  (1, 124)\n",
      "X shape=  (13, 124)\n",
      "y shape=  (1, 124)\n"
     ]
    },
    {
     "data": {
      "application/vnd.jupyter.widget-view+json": {
       "model_id": "e2b6c9d07168406a87ba2a027cb521d1",
       "version_major": 2,
       "version_minor": 0
      },
      "text/plain": [
       "QDA (TIME):   0%|          | 0/2 [00:00<?, ?it/s]"
      ]
     },
     "metadata": {},
     "output_type": "display_data"
    },
    {
     "name": "stdout",
     "output_type": "stream",
     "text": [
      "X shape=  (13, 124)\n",
      "y shape=  (1, 124)\n",
      "X shape=  (13, 124)\n",
      "y shape=  (1, 124)\n"
     ]
    }
   ],
   "source": [
    "# bencheamos un par\n",
    "to_bench = [QDA]\n",
    "\n",
    "for model in to_bench:\n",
    "    b.bench(model)"
   ]
  },
  {
   "cell_type": "code",
   "execution_count": 14,
   "metadata": {
    "colab": {
     "base_uri": "https://localhost:8080/",
     "height": 81,
     "referenced_widgets": [
      "e3704aaa731c464a8d6c63c39d0b167a",
      "ee002c5199874f8db461bb1631f198ac",
      "9e38484f037e4f86be6b768459404767",
      "d670b24d966f4de1872524684ea98840",
      "74859eadc1ef4090a07e851f5949f4d6",
      "1f6553e18f4f460ebbc4b9705cfb9c3d",
      "44cc54751afe4e618d81e92e2e64ca58",
      "f1cdc4724c6d441cbebca60f1bb11aea",
      "4965b54e63794e0b80c19c150b072eda",
      "4c09e94a9e494e6daa6f59c23b8bcb4f",
      "ab3b1739c3bf4f3ba399e3a60d043ec8",
      "6bbe1b2d6f3846168244aca7ecf761f0",
      "eb6e454a891d493b88fe82442a9288e2",
      "3fad52f5ac204004afac2df2b55cbc7b",
      "2d6622ab061342f280f7fbcbc920bc00",
      "e7cdc4320bff45f6acf901b8bd9bdf1a",
      "bf6f0511eeca467c870c6a261712ca7e",
      "26d56661a9e4490c96ef5dd831fa904b",
      "ba742120ade4495d9f75b066c43b6ffb",
      "e38ba66c86764d578b97aa127e0cd9ce",
      "f87908723b244cd99144a4e1b7be8807",
      "568fd1f1b5984675bf1716520a63b7d1"
     ]
    },
    "id": "wpPhSSCNhlvG",
    "outputId": "a5302dc3-d947-47db-d96d-cf7a98152b0e"
   },
   "outputs": [
    {
     "name": "stdout",
     "output_type": "stream",
     "text": [
      "X shape=  (13, 124)\n",
      "y shape=  (1, 124)\n",
      "X shape=  (13, 124)\n",
      "y shape=  (1, 124)\n"
     ]
    },
    {
     "data": {
      "application/vnd.jupyter.widget-view+json": {
       "model_id": "823d3596304947bba8ffce898a7b50d1",
       "version_major": 2,
       "version_minor": 0
      },
      "text/plain": [
       "TensorizedQDA (MEM):   0%|          | 0/2 [00:00<?, ?it/s]"
      ]
     },
     "metadata": {},
     "output_type": "display_data"
    },
    {
     "name": "stdout",
     "output_type": "stream",
     "text": [
      "X shape=  (13, 124)\n",
      "y shape=  (1, 124)\n",
      "X shape=  (13, 124)\n",
      "y shape=  (1, 124)\n"
     ]
    },
    {
     "data": {
      "application/vnd.jupyter.widget-view+json": {
       "model_id": "f1ff178198dc4ca2a3741ca339c053a5",
       "version_major": 2,
       "version_minor": 0
      },
      "text/plain": [
       "TensorizedQDA (TIME):   0%|          | 0/2 [00:00<?, ?it/s]"
      ]
     },
     "metadata": {},
     "output_type": "display_data"
    },
    {
     "name": "stdout",
     "output_type": "stream",
     "text": [
      "X shape=  (13, 124)\n",
      "y shape=  (1, 124)\n",
      "X shape=  (13, 124)\n",
      "y shape=  (1, 124)\n"
     ]
    }
   ],
   "source": [
    "# como es una clase, podemos seguir bencheando más después\n",
    "b.bench(TensorizedQDA)"
   ]
  },
  {
   "cell_type": "code",
   "execution_count": 15,
   "metadata": {
    "colab": {
     "base_uri": "https://localhost:8080/",
     "height": 163
    },
    "id": "bZ5-vowshr5c",
    "outputId": "f17bc091-0cf5-42b9-cd9a-1e3d61e824b0"
   },
   "outputs": [
    {
     "data": {
      "text/html": [
       "<div>\n",
       "<style scoped>\n",
       "    .dataframe tbody tr th:only-of-type {\n",
       "        vertical-align: middle;\n",
       "    }\n",
       "\n",
       "    .dataframe tbody tr th {\n",
       "        vertical-align: top;\n",
       "    }\n",
       "\n",
       "    .dataframe thead th {\n",
       "        text-align: right;\n",
       "    }\n",
       "</style>\n",
       "<table border=\"1\" class=\"dataframe\">\n",
       "  <thead>\n",
       "    <tr style=\"text-align: right;\">\n",
       "      <th></th>\n",
       "      <th>train_mean_ms</th>\n",
       "      <th>train_std_ms</th>\n",
       "      <th>test_mean_ms</th>\n",
       "      <th>test_std_ms</th>\n",
       "      <th>mean_accuracy</th>\n",
       "      <th>train_mem_mean_mb</th>\n",
       "      <th>train_mem_std_mb</th>\n",
       "      <th>test_mem_mean_mb</th>\n",
       "      <th>test_mem_std_mb</th>\n",
       "    </tr>\n",
       "    <tr>\n",
       "      <th>model</th>\n",
       "      <th></th>\n",
       "      <th></th>\n",
       "      <th></th>\n",
       "      <th></th>\n",
       "      <th></th>\n",
       "      <th></th>\n",
       "      <th></th>\n",
       "      <th></th>\n",
       "      <th></th>\n",
       "    </tr>\n",
       "  </thead>\n",
       "  <tbody>\n",
       "    <tr>\n",
       "      <th>QDA</th>\n",
       "      <td>3.31160</td>\n",
       "      <td>0.44160</td>\n",
       "      <td>10.2003</td>\n",
       "      <td>1.4990</td>\n",
       "      <td>0.981481</td>\n",
       "      <td>0.020776</td>\n",
       "      <td>0.000777</td>\n",
       "      <td>0.011706</td>\n",
       "      <td>0.002285</td>\n",
       "    </tr>\n",
       "    <tr>\n",
       "      <th>TensorizedQDA</th>\n",
       "      <td>3.71415</td>\n",
       "      <td>1.06935</td>\n",
       "      <td>6.0061</td>\n",
       "      <td>1.3027</td>\n",
       "      <td>0.953704</td>\n",
       "      <td>0.020381</td>\n",
       "      <td>0.001673</td>\n",
       "      <td>0.013673</td>\n",
       "      <td>0.001336</td>\n",
       "    </tr>\n",
       "  </tbody>\n",
       "</table>\n",
       "</div>"
      ],
      "text/plain": [
       "               train_mean_ms  train_std_ms  test_mean_ms  test_std_ms  \\\n",
       "model                                                                   \n",
       "QDA                  3.31160       0.44160       10.2003       1.4990   \n",
       "TensorizedQDA        3.71415       1.06935        6.0061       1.3027   \n",
       "\n",
       "               mean_accuracy  train_mem_mean_mb  train_mem_std_mb  \\\n",
       "model                                                               \n",
       "QDA                 0.981481           0.020776          0.000777   \n",
       "TensorizedQDA       0.953704           0.020381          0.001673   \n",
       "\n",
       "               test_mem_mean_mb  test_mem_std_mb  \n",
       "model                                             \n",
       "QDA                    0.011706         0.002285  \n",
       "TensorizedQDA          0.013673         0.001336  "
      ]
     },
     "execution_count": 15,
     "metadata": {},
     "output_type": "execute_result"
    }
   ],
   "source": [
    "# hacemos un summary\n",
    "b.summary()"
   ]
  },
  {
   "cell_type": "code",
   "execution_count": 16,
   "metadata": {
    "colab": {
     "base_uri": "https://localhost:8080/",
     "height": 143
    },
    "id": "09eKXqlXhwL-",
    "outputId": "d42734a6-6fd8-4b15-da84-144d4923113f"
   },
   "outputs": [
    {
     "data": {
      "text/html": [
       "<div>\n",
       "<style scoped>\n",
       "    .dataframe tbody tr th:only-of-type {\n",
       "        vertical-align: middle;\n",
       "    }\n",
       "\n",
       "    .dataframe tbody tr th {\n",
       "        vertical-align: top;\n",
       "    }\n",
       "\n",
       "    .dataframe thead th {\n",
       "        text-align: right;\n",
       "    }\n",
       "</style>\n",
       "<table border=\"1\" class=\"dataframe\">\n",
       "  <thead>\n",
       "    <tr style=\"text-align: right;\">\n",
       "      <th></th>\n",
       "      <th>train_mean_ms</th>\n",
       "      <th>test_mean_ms</th>\n",
       "      <th>mean_accuracy</th>\n",
       "    </tr>\n",
       "    <tr>\n",
       "      <th>model</th>\n",
       "      <th></th>\n",
       "      <th></th>\n",
       "      <th></th>\n",
       "    </tr>\n",
       "  </thead>\n",
       "  <tbody>\n",
       "    <tr>\n",
       "      <th>QDA</th>\n",
       "      <td>3.31160</td>\n",
       "      <td>10.2003</td>\n",
       "      <td>0.981481</td>\n",
       "    </tr>\n",
       "    <tr>\n",
       "      <th>TensorizedQDA</th>\n",
       "      <td>3.71415</td>\n",
       "      <td>6.0061</td>\n",
       "      <td>0.953704</td>\n",
       "    </tr>\n",
       "  </tbody>\n",
       "</table>\n",
       "</div>"
      ],
      "text/plain": [
       "               train_mean_ms  test_mean_ms  mean_accuracy\n",
       "model                                                    \n",
       "QDA                  3.31160       10.2003       0.981481\n",
       "TensorizedQDA        3.71415        6.0061       0.953704"
      ]
     },
     "execution_count": 16,
     "metadata": {},
     "output_type": "execute_result"
    }
   ],
   "source": [
    "# son muchos datos! nos quedamos con un par nomás\n",
    "summ = b.summary()\n",
    "\n",
    "# como es un pandas DataFrame, subseteamos columnas fácil\n",
    "summ[['train_mean_ms', 'test_mean_ms','mean_accuracy']]"
   ]
  },
  {
   "cell_type": "code",
   "execution_count": 17,
   "metadata": {
    "colab": {
     "base_uri": "https://localhost:8080/",
     "height": 163
    },
    "id": "EopB9574h8I5",
    "outputId": "c2bd86ab-3ba3-456d-c99b-d3bd131af75f"
   },
   "outputs": [
    {
     "data": {
      "text/html": [
       "<div>\n",
       "<style scoped>\n",
       "    .dataframe tbody tr th:only-of-type {\n",
       "        vertical-align: middle;\n",
       "    }\n",
       "\n",
       "    .dataframe tbody tr th {\n",
       "        vertical-align: top;\n",
       "    }\n",
       "\n",
       "    .dataframe thead th {\n",
       "        text-align: right;\n",
       "    }\n",
       "</style>\n",
       "<table border=\"1\" class=\"dataframe\">\n",
       "  <thead>\n",
       "    <tr style=\"text-align: right;\">\n",
       "      <th></th>\n",
       "      <th>train_mean_ms</th>\n",
       "      <th>train_std_ms</th>\n",
       "      <th>test_mean_ms</th>\n",
       "      <th>test_std_ms</th>\n",
       "      <th>mean_accuracy</th>\n",
       "      <th>train_mem_mean_mb</th>\n",
       "      <th>train_mem_std_mb</th>\n",
       "      <th>test_mem_mean_mb</th>\n",
       "      <th>test_mem_std_mb</th>\n",
       "      <th>train_speedup</th>\n",
       "      <th>test_speedup</th>\n",
       "      <th>train_mem_reduction</th>\n",
       "      <th>test_mem_reduction</th>\n",
       "    </tr>\n",
       "    <tr>\n",
       "      <th>model</th>\n",
       "      <th></th>\n",
       "      <th></th>\n",
       "      <th></th>\n",
       "      <th></th>\n",
       "      <th></th>\n",
       "      <th></th>\n",
       "      <th></th>\n",
       "      <th></th>\n",
       "      <th></th>\n",
       "      <th></th>\n",
       "      <th></th>\n",
       "      <th></th>\n",
       "      <th></th>\n",
       "    </tr>\n",
       "  </thead>\n",
       "  <tbody>\n",
       "    <tr>\n",
       "      <th>QDA</th>\n",
       "      <td>3.31160</td>\n",
       "      <td>0.44160</td>\n",
       "      <td>10.2003</td>\n",
       "      <td>1.4990</td>\n",
       "      <td>0.981481</td>\n",
       "      <td>0.020776</td>\n",
       "      <td>0.000777</td>\n",
       "      <td>0.011706</td>\n",
       "      <td>0.002285</td>\n",
       "      <td>1.000000</td>\n",
       "      <td>1.000000</td>\n",
       "      <td>1.000000</td>\n",
       "      <td>1.000000</td>\n",
       "    </tr>\n",
       "    <tr>\n",
       "      <th>TensorizedQDA</th>\n",
       "      <td>3.71415</td>\n",
       "      <td>1.06935</td>\n",
       "      <td>6.0061</td>\n",
       "      <td>1.3027</td>\n",
       "      <td>0.953704</td>\n",
       "      <td>0.020381</td>\n",
       "      <td>0.001673</td>\n",
       "      <td>0.013673</td>\n",
       "      <td>0.001336</td>\n",
       "      <td>0.891617</td>\n",
       "      <td>1.698323</td>\n",
       "      <td>1.019395</td>\n",
       "      <td>0.856146</td>\n",
       "    </tr>\n",
       "  </tbody>\n",
       "</table>\n",
       "</div>"
      ],
      "text/plain": [
       "               train_mean_ms  train_std_ms  test_mean_ms  test_std_ms  \\\n",
       "model                                                                   \n",
       "QDA                  3.31160       0.44160       10.2003       1.4990   \n",
       "TensorizedQDA        3.71415       1.06935        6.0061       1.3027   \n",
       "\n",
       "               mean_accuracy  train_mem_mean_mb  train_mem_std_mb  \\\n",
       "model                                                               \n",
       "QDA                 0.981481           0.020776          0.000777   \n",
       "TensorizedQDA       0.953704           0.020381          0.001673   \n",
       "\n",
       "               test_mem_mean_mb  test_mem_std_mb  train_speedup  test_speedup  \\\n",
       "model                                                                           \n",
       "QDA                    0.011706         0.002285       1.000000      1.000000   \n",
       "TensorizedQDA          0.013673         0.001336       0.891617      1.698323   \n",
       "\n",
       "               train_mem_reduction  test_mem_reduction  \n",
       "model                                                   \n",
       "QDA                       1.000000            1.000000  \n",
       "TensorizedQDA             1.019395            0.856146  "
      ]
     },
     "execution_count": 17,
     "metadata": {},
     "output_type": "execute_result"
    }
   ],
   "source": [
    "# podemos setear un baseline para que fabrique columnas de comparación\n",
    "summ = b.summary(baseline='QDA')\n",
    "\n",
    "summ"
   ]
  },
  {
   "cell_type": "code",
   "execution_count": 18,
   "metadata": {
    "colab": {
     "base_uri": "https://localhost:8080/",
     "height": 143
    },
    "id": "z0qeE1gviFLZ",
    "outputId": "26f288da-88c0-4568-d4cb-f3d60bf5045c"
   },
   "outputs": [
    {
     "data": {
      "text/html": [
       "<div>\n",
       "<style scoped>\n",
       "    .dataframe tbody tr th:only-of-type {\n",
       "        vertical-align: middle;\n",
       "    }\n",
       "\n",
       "    .dataframe tbody tr th {\n",
       "        vertical-align: top;\n",
       "    }\n",
       "\n",
       "    .dataframe thead th {\n",
       "        text-align: right;\n",
       "    }\n",
       "</style>\n",
       "<table border=\"1\" class=\"dataframe\">\n",
       "  <thead>\n",
       "    <tr style=\"text-align: right;\">\n",
       "      <th></th>\n",
       "      <th>train_mean_ms</th>\n",
       "      <th>test_mean_ms</th>\n",
       "      <th>mean_accuracy</th>\n",
       "      <th>train_speedup</th>\n",
       "      <th>test_speedup</th>\n",
       "      <th>train_mem_reduction</th>\n",
       "      <th>test_mem_reduction</th>\n",
       "    </tr>\n",
       "    <tr>\n",
       "      <th>model</th>\n",
       "      <th></th>\n",
       "      <th></th>\n",
       "      <th></th>\n",
       "      <th></th>\n",
       "      <th></th>\n",
       "      <th></th>\n",
       "      <th></th>\n",
       "    </tr>\n",
       "  </thead>\n",
       "  <tbody>\n",
       "    <tr>\n",
       "      <th>QDA</th>\n",
       "      <td>3.31160</td>\n",
       "      <td>10.2003</td>\n",
       "      <td>0.981481</td>\n",
       "      <td>1.000000</td>\n",
       "      <td>1.000000</td>\n",
       "      <td>1.000000</td>\n",
       "      <td>1.000000</td>\n",
       "    </tr>\n",
       "    <tr>\n",
       "      <th>TensorizedQDA</th>\n",
       "      <td>3.71415</td>\n",
       "      <td>6.0061</td>\n",
       "      <td>0.953704</td>\n",
       "      <td>0.891617</td>\n",
       "      <td>1.698323</td>\n",
       "      <td>1.019395</td>\n",
       "      <td>0.856146</td>\n",
       "    </tr>\n",
       "  </tbody>\n",
       "</table>\n",
       "</div>"
      ],
      "text/plain": [
       "               train_mean_ms  test_mean_ms  mean_accuracy  train_speedup  \\\n",
       "model                                                                      \n",
       "QDA                  3.31160       10.2003       0.981481       1.000000   \n",
       "TensorizedQDA        3.71415        6.0061       0.953704       0.891617   \n",
       "\n",
       "               test_speedup  train_mem_reduction  test_mem_reduction  \n",
       "model                                                                 \n",
       "QDA                1.000000             1.000000            1.000000  \n",
       "TensorizedQDA      1.698323             1.019395            0.856146  "
      ]
     },
     "execution_count": 18,
     "metadata": {},
     "output_type": "execute_result"
    }
   ],
   "source": [
    "summ[[\n",
    "    'train_mean_ms', 'test_mean_ms','mean_accuracy',\n",
    "    'train_speedup', 'test_speedup',\n",
    "    'train_mem_reduction', 'test_mem_reduction'\n",
    "]]"
   ]
  },
  {
   "cell_type": "markdown",
   "metadata": {
    "id": "EF80Pck2RmaC"
   },
   "source": [
    "# Consigna QDA\n",
    "\n",
    "**Notación**: en general notamos\n",
    "\n",
    "* $k$ la cantidad de clases\n",
    "* $n$ la cantidad de observaciones\n",
    "* $p$ la cantidad de features/variables/predictores\n",
    "\n",
    "**Sugerencia:** combinaciones adecuadas de `transpose`, `stack`, `reshape` y, ocasionalmente, `flatten` y `diagonal` suele ser más que suficiente. Se recomienda **fuertemente* explorar la dimensionalidad de cada elemento antes de implementar las clases.\n",
    "\n",
    "## Tensorización\n",
    "\n",
    "En esta sección nos vamos a ocupar de hacer que el modelo sea más rápido para generar predicciones, observando que incurre en un doble `for` dado que predice en forma individual un escalar para cada observación, para cada clase. Paralelizar ambos vía tensorización suena como una gran vía de mejora de tiempos.\n",
    "\n",
    "### 1) Diferencias entre `QDA`y `TensorizedQDA`\n",
    "\n",
    "1. ¿Sobre qué paraleliza `TensorizedQDA`? ¿Sobre las $k$ clases, las $n$ observaciones a predecir, o ambas?\n",
    "2. Analizar los shapes de `tensor_inv_covs` y `tensor_means` y explicar paso a paso cómo es que `TensorizedQDA` llega a predecir lo mismo que `QDA`.\n",
    "\n",
    "### 2) Optimización\n",
    "\n",
    "Debido a la forma cuadrática de QDA, no se puede predecir para $n$ observaciones en una sola pasada (utilizar $X \\in \\mathbb{R}^{p \\times n}$ en vez de $x \\in \\mathbb{R}^p$) sin pasar por una matriz de $n \\times n$ en donde se computan todas las interacciones entre observaciones. Se puede acceder al resultado recuperando sólo la diagonal de dicha matriz, pero resulta ineficiente en tiempo y (especialmente) en memoria. Aún así, es *posible* que el modelo funcione más rápido.\n",
    "\n",
    "3. Implementar el modelo `FasterQDA` (se recomienda heredarlo de `TensorizedQDA`) de manera de eliminar el ciclo for en el método predict.\n",
    "4. Mostrar dónde aparece la mencionada matriz de $n \\times n$, donde $n$ es la cantidad de observaciones a predecir.\n",
    "5. Demostrar que\n",
    "$$\n",
    "diag(A \\cdot B) = \\sum_{cols} A \\odot B^T = np.sum(A \\odot B^T, axis=1)\n",
    "$$ es decir, que se puede \"esquivar\" la matriz de $n \\times n$ usando matrices de $n \\times p$. También se puede usar, de forma equivalente,\n",
    "$$\n",
    "np.sum(A^T \\odot B, axis=0).T\n",
    "$$\n",
    "  queda a preferencia del alumno cuál usar.\n",
    "\n",
    "6. Utilizar la propiedad antes demostrada para reimplementar la predicción del modelo `FasterQDA` de forma eficiente en un nuevo modelo `EfficientQDA`.\n",
    "7. Comparar la performance de las 4 variantes de QDA implementadas hasta ahora (no Cholesky) ¿Qué se observa? A modo de opinión ¿Se condice con lo esperado?\n",
    "\n",
    "## Cholesky\n",
    "\n",
    "Hasta ahora todos los esfuerzos fueron enfocados en realizar una predicción más rápida. Los tiempos de entrenamiento (teóricos al menos) siguen siendo los mismos o hasta (minúsculamente) peores, dado que todas las mejoras siguen llamando al método `_fit_params` original de `QDA`.\n",
    "\n",
    "La descomposición/factorización de [Cholesky](https://en.wikipedia.org/wiki/Cholesky_decomposition#Statement) permite factorizar una matriz definida positiva $A = LL^T$ donde $L$ es una matriz triangular inferior. En particular, si bien se asume que $p \\ll n$, invertir la matriz de covarianzas $\\Sigma$ para cada clase impone un cuello de botella que podría alivianarse. Teniendo en cuenta que las matrices de covarianza son simétricas y salvo degeneración, definidas positivas, Cholesky como mínimo debería permitir invertir la matriz más rápido.\n",
    "\n",
    "*Nota: observar que calcular* $A^{-1}b$ *equivale a resolver el sistema* $Ax=b$.\n",
    "\n",
    "### 3) Diferencias entre implementaciones de `QDA_Chol`\n",
    "\n",
    "8. Si una matriz $A$ tiene fact. de Cholesky $A=LL^T$, expresar $A^{-1}$ en términos de $L$. ¿Cómo podría esto ser útil en la forma cuadrática de QDA?\n",
    "9. Explicar las diferencias entre `QDA_Chol1`y `QDA` y cómo `QDA_Chol1` llega, paso a paso, hasta las predicciones.\n",
    "10. ¿Cuáles son las diferencias entre `QDA_Chol1`, `QDA_Chol2` y `QDA_Chol3`?\n",
    "11. Comparar la performance de las 7 variantes de QDA implementadas hasta ahora ¿Qué se observa?¿Hay alguna de las implementaciones de `QDA_Chol` que sea claramente mejor que las demás?¿Alguna que sea peor?\n",
    "\n",
    "### 4) Optimización\n",
    "\n",
    "12. Implementar el modelo `TensorizedChol` paralelizando sobre clases/observaciones según corresponda. Se recomienda heredarlo de alguna de las implementaciones de `QDA_Chol`, aunque la elección de cuál de ellas queda a cargo del alumno según lo observado en los benchmarks de puntos anteriores.\n",
    "13. Implementar el modelo `EfficientChol` combinando los insights de `EfficientQDA` y `TensorizedChol`. Si se desea, se puede implementar `FasterChol` como ayuda, pero no se contempla para el punto.\n",
    "13. Comparar la performance de las 9 variantes de QDA implementadas ¿Qué se observa? A modo de opinión ¿Se condice con lo esperado?"
   ]
  },
  {
   "cell_type": "markdown",
   "metadata": {
    "id": "RwlW7sqwirdn"
   },
   "source": [
    "# Resolucion del TP"
   ]
  },
  {
   "cell_type": "markdown",
   "metadata": {},
   "source": [
    "### 1) ¿Sobre qué paraleliza TensorizedQDA? ¿Sobre las $k$ clases, las $n$ observaciones a predecir, o ambas?\n",
    "\n",
    "  TensorizedQDA paraleliza sobre ambas dimensiones: las $k$ clases y las $n$ observaciones a predecir.\n",
    "  En el modelo QDA original, la predicción implica un doble bucle: uno sobre las $k$ clases y otro sobre las $n$ observaciones, calculando el score discriminante para cada observación y cada clase de forma individual. Esto resulta en una complejidad computacional que escala con $O(n \\cdot k)$.\n",
    "  En cambio, TensorizedQDA utiliza operaciones tensorizadas (con matrices y vectores) para eliminar estos bucles explícitos, aprovechando el paralelismo implícito de las operaciones matriciales en bibliotecas como NumPy. Esto permite calcular los scores para todas las observaciones y todas las clases simultáneamente en una sola pasada."
   ]
  },
  {
   "cell_type": "markdown",
   "metadata": {},
   "source": [
    "## Agustin:\n",
    "Tensoriza sobre las clases. En la versión previa el predict_log_conditional actuaba para cada clase individualmente. De esta forma, elimina el for loop de predict_one que operaba sobre las clases (enumerando el vector a_priori)\n"
   ]
  },
  {
   "cell_type": "markdown",
   "metadata": {},
   "source": [
    "### 2. Analizar los shapes de tensor_inv_covs y tensor_means y explicar paso a paso cómo es que TensorizedQDA llega a predecir lo mismo que QDA.\n",
    "\n",
    "- Shapes esperados:\n",
    "  - tensor_means: Shape $(k, p)$, donde $k$ es el número de clases y $p$ es el número de features. Representa los vectores de medias para cada clase.\n",
    "  - tensor_inv_covs: Shape $(k, p, p)$, donde cada \"capa\" $(p, p)$ es la matriz inversa de la covarianza para una clase específica.\n",
    "\n",
    "- Paso a paso en TensorizedQDA:\n",
    "  1. Entrada: Se recibe un conjunto de observaciones $X$ de shape $(n, p)$, donde $n$ es el número de observaciones a predecir.\n",
    "  2. Diferencia con las medias: Se calcula $X - \\mu_k$ para cada clase $k$. Esto se hace restando tensor_means (expandido a $(n, k, p)$ mediante broadcasting) a $X$ (expandido a $(n, k, p)$), resultando en una matriz de diferencias de shape $(n, k, p)$.\n",
    "  3. Forma cuadrática: Para cada clase $k$, se necesita calcular $(x_i - \\mu_k)^T \\Sigma_k^{-1} (x_i - \\mu_k)$ para cada observación $x_i$. En TensorizedQDA, esto se logra usando tensor_inv_covs $(k, p, p)$ y las diferencias $(n, k, p)$ mediante una operación matricial tensorizada (como einsum), produciendo un tensor de shape $(n, k)$ con los términos cuadráticos para todas las observaciones y clases.\n",
    "  4. Términos adicionales: Se suman los logaritmos de las probabilidades a priori (log_priors, shape $(k,)$) y los logaritmos de los determinantes de las covarianzas (calculados en el ajuste), ajustados para cada clase.\n",
    "  5. Predicción: Se toma el argmax a lo largo del eje de las clases (dimensión $k$) para obtener las predicciones de shape $(n,)$, igual que en QDA.\n",
    "    \n",
    "\n",
    "- Equivalencia: La tensorización no cambia la fórmula matemática del discriminante cuadrático, solo reorganiza los cálculos para evitar bucles explícitos, logrando el mismo resultado que QDA."
   ]
  },
  {
   "cell_type": "markdown",
   "metadata": {},
   "source": [
    "## Agustin:\n",
    "\n",
    "  - El shape de tensor_inv_covs es (cantidad de clases, cantidad de features, cantidad de features), siendo en este caso las clases 3 y las features 13, ya que para cada clase genera una matriz cuadrada de las covarianzas entre cada feature (siendo la diagonal la varianza propia de la feature). El shape de tensor_means es (cantidad de clases, cantidad de features, 1), ya que en este caso calcula una media para feature y para cada clase. El cambio con respecto a la versión previa es que antes cada matriz para cada clase se guardaba en una lista, y eran utilizadas dentro el for loop de predict_one, y ahora están agrupadas en un tensor. Para entender por qué llega al mismo resultado, debemos entender cómo funcionan las operaciones @ (np.matmul) y np.linalg.det(), cuando lo aplicamos sobre un tensor que consiste en k matrices apiladas. Lo que hacen ambas operaciones es aplicar la operación sobre las k matrices que están apiladas. Operación por operación ocurre lo siguiente:\n",
    "  - Con unbiased_x.transpose(0,2,1) @ self.tensor_inv_cov @ unbiased_x, con shape de unbiased_x de (3,13,1) y tensor_inv_cov de (3,13,13): -unbiased_x.transpose(0,2,1) convierte el tensor a (3,1,13) -unbiased_x.transpose(0,2,1) @ self.tensor_inv_cov multiplica el tensor de (3,1,13) con el de (3,13,13), donde internamente multiplica los 3 vectores de (1,13) por las 3 matrices de (13,13) y las vuelve a apilar. De esta forma, funciona igual que el for loop que lo hacía en forma separada para las 3, pero numpy lo hace en forma más eficiente al poder paralelizar la operación. El resultado es un tensor de (3,1,13) -Finalmente, el tensor de (3,1,13) es multiplicado por el tensor de unbiased_x resultando en un tensor de (3, 1, 1), siendo el segundo término de la log verosimilitud para cada una de las clases (al multiplicar por -0.5):\n",
    "\n",
    "$\\log f_j(x) = 12 \\log|\\Sigma_j| - 12(x-\\mu_j)T\\Sigma-1 j(x-\\mu_j) + C$\n",
    "\n",
    " log𝑓𝑗(𝑥)=−12log|Σ𝑗|−12(𝑥−𝜇𝑗)𝑇Σ−1𝑗(𝑥−𝜇𝑗)+𝐶$ \n",
    "  - np.log(LA.det(self.tensor_inv_cov)) la función det opera de la misma forma, ya que tensor_inv_cov es de (3,13,13) por lo que para cada una de las 3 clases, genera el determinante de las matrices de (13,13), esto multiplicado por 0.5 nos da el primer término de la ecuación\n",
    "\n",
    "  - Por último al sumar esto a la log_a_priori, tenemos las posterior, en formato tensor (3,1,1), y para predecir la clase se toma argmax La diferencia es que elimina el loop for de las clases, aplicando las operaciones mediante tensores\n",
    "\n"
   ]
  },
  {
   "cell_type": "markdown",
   "metadata": {},
   "source": [
    "### 3. Implementar el modelo FasterQDA (se recomienda heredarlo de TensorizedQDA) de manera de eliminar el ciclo for en el método predict."
   ]
  },
  {
   "cell_type": "markdown",
   "metadata": {},
   "source": [
    "El siguiente código elimina el bucle explícito sobre observaciones al usar einsum para calcular la forma cuadrática en una sola operación tensorizada."
   ]
  },
  {
   "cell_type": "code",
   "execution_count": 28,
   "metadata": {},
   "outputs": [],
   "source": [
    "class FasterQDA(TensorizedQDA):\n",
    "    def predict(self, X):\n",
    "        m_obs = X.shape[1]\n",
    "        k_classes = len(self.log_a_priori)\n",
    "        \n",
    "        # Calcular las log-posteriori para todas las observaciones y clases\n",
    "        log_posteriori = np.empty((k_classes, m_obs))\n",
    "        \n",
    "        X_expandido = np.expand_dims(X, axis=0)  # (m_obs, 1, n_features, 1)\n",
    "        X_expandido = np.repeat(X_expandido, repeats=len(self.log_a_priori), axis=0)\n",
    "        \n",
    "        # Diferencia entre X y la media de la clase k\n",
    "        unbiased_X = X - self.tensor_means\n",
    "        # Esto genera una tensor de (n_clases, m_obs, m_obs)\n",
    "        inner_prod = unbiased_X.transpose(0,2,1) @ self.tensor_inv_cov @ unbiased_X\n",
    "        print(f\"Shape de inner_prod: {inner_prod.shape}\")\n",
    "        # Extraer solo la diagonal (log-probabilidad condicional para cada observación)\n",
    "        log_conditional = 0.5 * np.log(LA.det(self.tensor_inv_cov)).reshape(-1, 1) - 0.5 * np.diagonal(inner_prod, axis1=1, axis2=2)\n",
    "        # Sumar el log a priori\n",
    "        log_posteriori = self.log_a_priori.reshape(-1, 1) + log_conditional\n",
    "        \n",
    "        # Elegir la clase con máxima probabilidad log-posteriori\n",
    "        y_hat = np.argmax(log_posteriori, axis=0)\n",
    "        return y_hat.reshape(1, -1)"
   ]
  },
  {
   "cell_type": "code",
   "execution_count": 24,
   "metadata": {},
   "outputs": [],
   "source": [
    "class FasterQDA_v2(TensorizedQDA):\n",
    "    #Implementación sin la matriz de nxn\n",
    "    def _predict_log_conditionals(self,X):\n",
    "        X = X.T # Pasar las observaciones a filas (m_obs, n_features)\n",
    "        X = X.reshape(X.shape[0], X.shape[1],1) # Agregar 3ra dimension (m_obs, n_features, 1)\n",
    "        X_expandido = np.expand_dims(X, axis=1)  # (m_obs, 1, n_features, 1)\n",
    "        X_expandido = np.repeat(X_expandido, repeats=len(self.log_a_priori), axis=1)  # len(self.log_a_priori) es la cantidad de clases. Replica el vector para cada clase (m_obs, k_clases, n_features, 1)\n",
    "        unbiased_X = X_expandido - self.tensor_means\n",
    "        inner_prod = unbiased_X.transpose(0,1,3,2) @ self.tensor_inv_cov @ unbiased_X\n",
    "        return 0.5*np.log(LA.det(self.tensor_inv_cov)) - 0.5 * inner_prod.squeeze()\n",
    "\n",
    "    def _predict_one(self, X):\n",
    "        # return the class that has maximum a posteriori probability\n",
    "        return np.argmax(self.log_a_priori + self._predict_log_conditionals(X), axis =1)\n",
    "    \n",
    "    def predict(self, X):\n",
    "        # this is actually an individual prediction encased in a for-loop\n",
    "        y_hat = self._predict_one(X)\n",
    "\n",
    "        # return prediction as a row vector (matching y)\n",
    "        return y_hat.reshape(1,-1)"
   ]
  },
  {
   "cell_type": "code",
   "execution_count": 25,
   "metadata": {},
   "outputs": [
    {
     "name": "stdout",
     "output_type": "stream",
     "text": [
      "X shape=  (13, 124)\n",
      "y shape=  (1, 124)\n",
      "Shape de inner_prod: (3, 54, 54)\n",
      "X shape=  (13, 124)\n",
      "y shape=  (1, 124)\n",
      "Shape de inner_prod: (3, 54, 54)\n"
     ]
    },
    {
     "data": {
      "application/vnd.jupyter.widget-view+json": {
       "model_id": "6a3369bec8494e4593fa7f6306de72f5",
       "version_major": 2,
       "version_minor": 0
      },
      "text/plain": [
       "FasterQDA (MEM):   0%|          | 0/2 [00:00<?, ?it/s]"
      ]
     },
     "metadata": {},
     "output_type": "display_data"
    },
    {
     "name": "stdout",
     "output_type": "stream",
     "text": [
      "X shape=  (13, 124)\n",
      "y shape=  (1, 124)\n",
      "Shape de inner_prod: (3, 54, 54)\n",
      "X shape=  (13, 124)\n",
      "y shape=  (1, 124)\n",
      "Shape de inner_prod: (3, 54, 54)\n"
     ]
    },
    {
     "data": {
      "application/vnd.jupyter.widget-view+json": {
       "model_id": "932f6eefd5b04c69bebe1ec9cabe739a",
       "version_major": 2,
       "version_minor": 0
      },
      "text/plain": [
       "FasterQDA (TIME):   0%|          | 0/2 [00:00<?, ?it/s]"
      ]
     },
     "metadata": {},
     "output_type": "display_data"
    },
    {
     "name": "stdout",
     "output_type": "stream",
     "text": [
      "X shape=  (13, 124)\n",
      "y shape=  (1, 124)\n",
      "Shape de inner_prod: (3, 54, 54)\n",
      "X shape=  (13, 124)\n",
      "y shape=  (1, 124)\n",
      "Shape de inner_prod: (3, 54, 54)\n"
     ]
    }
   ],
   "source": [
    "b.bench(FasterQDA)"
   ]
  },
  {
   "cell_type": "code",
   "execution_count": 26,
   "metadata": {},
   "outputs": [
    {
     "name": "stdout",
     "output_type": "stream",
     "text": [
      "X shape=  (13, 124)\n",
      "y shape=  (1, 124)\n",
      "X shape=  (13, 124)\n",
      "y shape=  (1, 124)\n"
     ]
    },
    {
     "data": {
      "application/vnd.jupyter.widget-view+json": {
       "model_id": "a710b2e9a1b4468ba19cb1cfb6e0a0c8",
       "version_major": 2,
       "version_minor": 0
      },
      "text/plain": [
       "FasterQDA_v2 (MEM):   0%|          | 0/2 [00:00<?, ?it/s]"
      ]
     },
     "metadata": {},
     "output_type": "display_data"
    },
    {
     "name": "stdout",
     "output_type": "stream",
     "text": [
      "X shape=  (13, 124)\n",
      "y shape=  (1, 124)\n",
      "X shape=  (13, 124)\n",
      "y shape=  (1, 124)\n"
     ]
    },
    {
     "data": {
      "application/vnd.jupyter.widget-view+json": {
       "model_id": "02c2b1209ac34b829a742ac474fbf666",
       "version_major": 2,
       "version_minor": 0
      },
      "text/plain": [
       "FasterQDA_v2 (TIME):   0%|          | 0/2 [00:00<?, ?it/s]"
      ]
     },
     "metadata": {},
     "output_type": "display_data"
    },
    {
     "name": "stdout",
     "output_type": "stream",
     "text": [
      "X shape=  (13, 124)\n",
      "y shape=  (1, 124)\n",
      "X shape=  (13, 124)\n",
      "y shape=  (1, 124)\n"
     ]
    }
   ],
   "source": [
    "b.bench(FasterQDA_v2)"
   ]
  },
  {
   "cell_type": "code",
   "execution_count": 27,
   "metadata": {},
   "outputs": [
    {
     "data": {
      "text/html": [
       "<div>\n",
       "<style scoped>\n",
       "    .dataframe tbody tr th:only-of-type {\n",
       "        vertical-align: middle;\n",
       "    }\n",
       "\n",
       "    .dataframe tbody tr th {\n",
       "        vertical-align: top;\n",
       "    }\n",
       "\n",
       "    .dataframe thead th {\n",
       "        text-align: right;\n",
       "    }\n",
       "</style>\n",
       "<table border=\"1\" class=\"dataframe\">\n",
       "  <thead>\n",
       "    <tr style=\"text-align: right;\">\n",
       "      <th></th>\n",
       "      <th>train_mean_ms</th>\n",
       "      <th>train_std_ms</th>\n",
       "      <th>test_mean_ms</th>\n",
       "      <th>test_std_ms</th>\n",
       "      <th>mean_accuracy</th>\n",
       "      <th>train_mem_mean_mb</th>\n",
       "      <th>train_mem_std_mb</th>\n",
       "      <th>test_mem_mean_mb</th>\n",
       "      <th>test_mem_std_mb</th>\n",
       "    </tr>\n",
       "    <tr>\n",
       "      <th>model</th>\n",
       "      <th></th>\n",
       "      <th></th>\n",
       "      <th></th>\n",
       "      <th></th>\n",
       "      <th></th>\n",
       "      <th></th>\n",
       "      <th></th>\n",
       "      <th></th>\n",
       "      <th></th>\n",
       "    </tr>\n",
       "  </thead>\n",
       "  <tbody>\n",
       "    <tr>\n",
       "      <th>QDA</th>\n",
       "      <td>3.31160</td>\n",
       "      <td>0.44160</td>\n",
       "      <td>10.20030</td>\n",
       "      <td>1.49900</td>\n",
       "      <td>0.981481</td>\n",
       "      <td>0.020776</td>\n",
       "      <td>0.000777</td>\n",
       "      <td>0.011706</td>\n",
       "      <td>0.002285</td>\n",
       "    </tr>\n",
       "    <tr>\n",
       "      <th>TensorizedQDA</th>\n",
       "      <td>3.71415</td>\n",
       "      <td>1.06935</td>\n",
       "      <td>6.00610</td>\n",
       "      <td>1.30270</td>\n",
       "      <td>0.953704</td>\n",
       "      <td>0.020381</td>\n",
       "      <td>0.001673</td>\n",
       "      <td>0.013673</td>\n",
       "      <td>0.001336</td>\n",
       "    </tr>\n",
       "    <tr>\n",
       "      <th>FasterQDA</th>\n",
       "      <td>2.16615</td>\n",
       "      <td>0.95265</td>\n",
       "      <td>0.39460</td>\n",
       "      <td>0.10820</td>\n",
       "      <td>0.981481</td>\n",
       "      <td>0.019188</td>\n",
       "      <td>0.000040</td>\n",
       "      <td>0.127846</td>\n",
       "      <td>0.000635</td>\n",
       "    </tr>\n",
       "    <tr>\n",
       "      <th>FasterQDA_v2</th>\n",
       "      <td>3.15630</td>\n",
       "      <td>0.77870</td>\n",
       "      <td>0.57925</td>\n",
       "      <td>0.28685</td>\n",
       "      <td>0.990741</td>\n",
       "      <td>0.019698</td>\n",
       "      <td>0.000789</td>\n",
       "      <td>0.063243</td>\n",
       "      <td>0.001153</td>\n",
       "    </tr>\n",
       "  </tbody>\n",
       "</table>\n",
       "</div>"
      ],
      "text/plain": [
       "               train_mean_ms  train_std_ms  test_mean_ms  test_std_ms  \\\n",
       "model                                                                   \n",
       "QDA                  3.31160       0.44160      10.20030      1.49900   \n",
       "TensorizedQDA        3.71415       1.06935       6.00610      1.30270   \n",
       "FasterQDA            2.16615       0.95265       0.39460      0.10820   \n",
       "FasterQDA_v2         3.15630       0.77870       0.57925      0.28685   \n",
       "\n",
       "               mean_accuracy  train_mem_mean_mb  train_mem_std_mb  \\\n",
       "model                                                               \n",
       "QDA                 0.981481           0.020776          0.000777   \n",
       "TensorizedQDA       0.953704           0.020381          0.001673   \n",
       "FasterQDA           0.981481           0.019188          0.000040   \n",
       "FasterQDA_v2        0.990741           0.019698          0.000789   \n",
       "\n",
       "               test_mem_mean_mb  test_mem_std_mb  \n",
       "model                                             \n",
       "QDA                    0.011706         0.002285  \n",
       "TensorizedQDA          0.013673         0.001336  \n",
       "FasterQDA              0.127846         0.000635  \n",
       "FasterQDA_v2           0.063243         0.001153  "
      ]
     },
     "execution_count": 27,
     "metadata": {},
     "output_type": "execute_result"
    }
   ],
   "source": [
    "b.summary()"
   ]
  },
  {
   "cell_type": "code",
   "execution_count": 45,
   "metadata": {},
   "outputs": [
    {
     "data": {
      "image/png": "[encoded data removed]",
      "text/plain": [
       "<Figure size 1000x500 with 2 Axes>"
      ]
     },
     "metadata": {},
     "output_type": "display_data"
    }
   ],
   "source": [
    "# -- Gráficos de comparación\n",
    "import matplotlib.pyplot as plt\n",
    "\n",
    "# Obtener el summary directamente desde el benchmark\n",
    "df_summary = b.summary()\n",
    "\n",
    "# Extraer columnas de interés\n",
    "tiempos = df_summary[\"test_mean_ms\"]\n",
    "accuracies = df_summary[\"mean_accuracy\"]\n",
    "\n",
    "# Crear gráfico combinado\n",
    "fig, ax1 = plt.subplots(figsize=(10, 5))\n",
    "\n",
    "# Barras: tiempo de predicción\n",
    "bars = ax1.bar(df_summary.index, tiempos, color='cornflowerblue', label=\"Tiempo de predicción (ms)\")\n",
    "ax1.set_ylabel(\"Tiempo de predicción (ms)\", color='steelblue')\n",
    "ax1.tick_params(axis='y', labelcolor='steelblue')\n",
    "\n",
    "# Línea: accuracy\n",
    "ax2 = ax1.twinx()\n",
    "line, = ax2.plot(df_summary.index, accuracies, color='seagreen', marker='o', linewidth=2, label=\"Accuracy\")\n",
    "ax2.set_ylabel(\"Accuracy\", color='seagreen')\n",
    "ax2.tick_params(axis='y', labelcolor='seagreen')\n",
    "\n",
    "# Agregar leyenda combinada (de ambas y-axes)\n",
    "fig.legend([bars, line], [\"Tiempo de predicción (ms)\", \"Accuracy\"], loc='upper center', bbox_to_anchor=(0.5, -0.08), ncol=2)\n",
    "\n",
    "# Título y formato\n",
    "plt.title(\"Comparación QDA: Tiempo de predicción vs Accuracy\")\n",
    "plt.grid(axis='y', linestyle='--', alpha=0.5)\n",
    "plt.tight_layout()\n",
    "plt.show()"
   ]
  },
  {
   "cell_type": "markdown",
   "metadata": {},
   "source": [
    "#### En resumen\n",
    "\n",
    "Se propusieron dos versiones (`FasterQDA` y `FasterQDA_v2`) que eliminan el ciclo `for` de predicción presente en la implementación clásica `QDA`.\n",
    "\n",
    "Ambas versiones utilizan **tensorización** para calcular los valores discriminantes cuadráticos para **todas las observaciones y clases en paralelo**, eliminando la necesidad de bucles explícitos y matrices intermedias costosas.\n",
    "\n",
    "- `FasterQDA` replica vectores de entrada y extrae las diagonales de las formas cuadráticas completas, logrando una ejecución más eficiente.\n",
    "- `FasterQDA_v2` refina aún más esta lógica, evitando por completo la construcción de matrices \\( n \\times n \\), utilizando `squeeze` y broadcasting controlado para optimizar tanto memoria como velocidad.\n",
    "\n",
    "#### Observaciones del gráfico:\n",
    "\n",
    "- **`QDA`** clásico es el más lento, con tiempos promedio de predicción significativamente mayores.\n",
    "- **`TensorizedQDA`** mejora la eficiencia respecto a `QDA`, pero su precisión (accuracy) es levemente inferior al resto.\n",
    "- **`FasterQDA`** mantiene la **misma accuracy** que `QDA`, pero con un **tiempo de predicción más de 20 veces menor**.\n",
    "- **`FasterQDA_v2`** se destaca como la mejor versión:  \n",
    "  - Es **la más precisa** del conjunto  \n",
    "  - Y una de las **más rápidas**, solo superada marginalmente por `FasterQDA`\n",
    "\n",
    "#### Conclusión final:\n",
    "\n",
    "Ambas versiones propuestas, `FasterQDA` y `FasterQDA_v2`, no solo eliminan los bucles, sino que logran **eficiencia computacional sin comprometer la precisión**.  \n",
    "En particular, **`FasterQDA_v2`** representa la **mejor combinación de performance y exactitud**, y constituye una solución altamente escalable para problemas de clasificación con QDA.\n",
    "\n"
   ]
  },
  {
   "cell_type": "markdown",
   "metadata": {},
   "source": [
    "### 4) Mostrar dónde aparece la mencionada matriz de $n \\times n$, donde $n$ es la cantidad de observaciones a predecir.\n"
   ]
  },
  {
   "cell_type": "markdown",
   "metadata": {},
   "source": [
    "\n",
    "  - La matriz de $n \\times n$ aparece en el término cuadrático si intentamos calcularlo directamente como $(X - M)^T \\Sigma^{-1} (X - M)$, donde $X$ es $(n, p)$ y $M$ es una matriz de medias repetidas para cada observación. En FasterQDA, esto ocurre en el tensor denominado inner_product (el tensor queda de la forma (k, n, n))\n",
    "    - diffs $(n, k, p)$ y tensor_inv_covs $(k, p, p)$ generan un producto intermedio que, si no se reduce inmediatamente, podría interpretarse como una interacción entre todas las $n$ observaciones para cada clase, pero np.diag colapsa esto a $(k, n)$ directamente, evitando materializar la matriz $n \\times n$ completa."
   ]
  },
  {
   "cell_type": "markdown",
   "metadata": {},
   "source": [
    "#### Ejemplo simple con 3 observaciones"
   ]
  },
  {
   "cell_type": "code",
   "execution_count": null,
   "metadata": {},
   "outputs": [
    {
     "name": "stdout",
     "output_type": "stream",
     "text": [
      "Matriz n x n de productos cruzados:\n",
      "[[ 1.  0. -1.]\n",
      " [ 0.  1. -1.]\n",
      " [-1. -1.  2.]]\n",
      "\n",
      "Diagonal (forma cuadrática por observación):\n",
      "[1. 1. 2.]\n"
     ]
    }
   ],
   "source": [
    "# -- Ejemplo breve con 3 observaciones --\n",
    "import numpy as np\n",
    "\n",
    "# Supongamos 3 observaciones con 2 features cada una\n",
    "X = np.array([\n",
    "    [1.0, 2.0],\n",
    "    [0.0, 1.0],\n",
    "    [2.0, 0.0]\n",
    "])  # shape (3, 2)\n",
    "\n",
    "# Media de la clase (fija para todas)\n",
    "mu = np.array([1.0, 1.0])  # shape (2,)\n",
    "\n",
    "# Inversa de la matriz de covarianza\n",
    "Sigma_inv = np.array([\n",
    "    [1.0, 0.0],\n",
    "    [0.0, 1.0]\n",
    "])  # identidad solo para simplificar\n",
    "\n",
    "# Paso 1: restamos la media (broadcasting)\n",
    "diff = X - mu  # shape (3, 2)\n",
    "\n",
    "# Paso 2: construimos la matriz completa (n x n)\n",
    "# Cada entrada [i, j] es: (x_i - mu)^T Σ^{-1} (x_j - mu)\n",
    "inner_product_full = diff @ Sigma_inv @ diff.T  # shape (3, 3)\n",
    "print(\"Matriz n x n de productos cruzados:\")\n",
    "print(inner_product_full)\n",
    "\n",
    "# Paso 3: extraemos solo la diagonal (lo que realmente usamos en QDA)\n",
    "inner_diag = np.diagonal(inner_product_full)  # shape (3,)\n",
    "print(\"\\nDiagonal (forma cuadrática por observación):\")\n",
    "print(inner_diag)"
   ]
  },
  {
   "cell_type": "markdown",
   "metadata": {},
   "source": [
    "#### Interpretación del ejemplo\n",
    "\n",
    "- La matriz 3x3 tiene **productos cruzados innecesarios**.\n",
    "- La diagonal contiene lo importante:\n",
    "\n",
    "  $$\n",
    "  (x_i - \\mu)^T \\Sigma^{-1} (x_i - \\mu)\n",
    "  $$\n",
    "\n",
    "- En QDA no necesitamos toda la matriz. Solo usamos los valores diagonales que es la forma cuadrática por observación (score individual).\n"
   ]
  },
  {
   "cell_type": "markdown",
   "metadata": {},
   "source": [
    "### 5) **Demostrar que**  $\\text{diag}(A \\cdot B) = \\sum_{\\text{cols}} A \\odot B^T = \\texttt{np.sum}(A \\odot B^T, \\texttt{axis=1})$\n",
    "\n",
    "**Prueba:**\n",
    "\n",
    "Sea $ A \\in \\mathbb{R}^{n \\times k}$  y $B \\in \\mathbb{R}^{k \\times n}$.\n",
    "\n",
    "El producto $( A \\cdot B ) \\in \\mathbb{R}^{n \\times n} $, por lo que su diagonal:\n",
    "\n",
    "$$\n",
    "\\text{diag}(A \\cdot B)_i = \\sum_{j=1}^{k} A_{ij} B_{ji}\n",
    "$$\n",
    "\n",
    "Por definición de multiplicación de matrices:\n",
    "\n",
    "$$\n",
    "(A \\cdot B)_{ii} = \\sum_{j=1}^{k} A_{ij} \\cdot B_{ji}\n",
    "$$\n",
    "\n",
    "Por lo tanto:\n",
    "\n",
    "$$\n",
    "\\text{diag}(A \\cdot B)_i = \\sum_{j=1}^{k} A_{ij} \\cdot B_{ji}\n",
    "$$\n",
    "\n",
    "Dado que $( B^T \\in \\mathbb{R}^{n \\times k} )$, entonces $( A \\odot B^T \\in \\mathbb{R}^{n \\times k} )$\n",
    "\n",
    "El elemento en la posición \\( (i, j) \\) de \\( A \\odot B^T \\) es:\n",
    "\n",
    "$$\n",
    "(A \\odot B^T)_{ij} = A_{ij} \\cdot B^T_{ij} = A_{ij} \\cdot B_{ji}\n",
    "$$\n",
    "\n",
    "Entonces:\n",
    "\n",
    "$$\n",
    "\\sum_{\\text{cols}} (A \\odot B^T)_i = \\sum_{j=1}^{k} A_{ij} \\cdot B_{ji}\n",
    "$$\n",
    "\n",
    "Lo que equivale a la expresión para \\( \\text{diag}(A \\cdot B) \\)\n",
    "\n",
    "Por lo tanto:\n",
    "\n",
    "$$\n",
    "\\text{diag}(A \\cdot B) = \\texttt{np.sum}(A \\odot B^T, \\texttt{axis=1})\n",
    "$$\n",
    "\n",
    "En NumPy, dada una matriz `A` de dimensiones `(n, k)` y `B` con dimensiones `(k, n)`,  \n",
    "se puede calcular la diagonal de `A @ B` por medio de:\n",
    "\n",
    "```python\n",
    "np.sum(A * B.T, axis=1)\n",
    "\n",
    "Debido a que \n",
    "  - A * B.T es la multiplicación elemento a elemento\n",
    "  - np.sum(..., axis=1) suma en forma columnar"
   ]
  },
  {
   "cell_type": "markdown",
   "metadata": {},
   "source": [
    "### 6) Utilizar la propiedad antes demostrada para reimplementar la predicción del modelo FasterQDA de forma eficiente en un nuevo modelo EfficientQDA."
   ]
  },
  {
   "cell_type": "code",
   "execution_count": 2342,
   "metadata": {},
   "outputs": [],
   "source": [
    "class EfficientQDA(TensorizedQDA):\n",
    "    def predict(self, X):\n",
    "        m_obs = X.shape[1]\n",
    "        k_classes = len(self.log_a_priori)\n",
    "        \n",
    "        # Calcular las log-posteriori para todas las observaciones y clases\n",
    "        log_posteriori = np.empty((k_classes, m_obs))\n",
    "        \n",
    "        X_expandido = np.expand_dims(X, axis=0)  # (m_obs, 1, n_features, 1)\n",
    "        X_expandido = np.repeat(X_expandido, repeats=len(self.log_a_priori), axis=0)\n",
    "        \n",
    "        # Diferencia entre X y la media de la clase k\n",
    "        unbiased_X = X - self.tensor_means\n",
    "        # Calcular inv_cov_k @ (X - mu_k)\n",
    "        cov_unbiased = self.tensor_inv_cov @ unbiased_X\n",
    "        # Usar la propiedad: suma de (X - mu_k)^T ⊙ (inv_cov_k @ (X - mu_k))\n",
    "        inner_prod = np.sum(unbiased_X.T * cov_unbiased.T, axis=1)\n",
    "        # Extraer solo la diagonal (log-probabilidad condicional para cada observación)\n",
    "        log_conditional = 0.5 * np.log(LA.det(self.tensor_inv_cov)).reshape(-1, 1) - 0.5 * inner_prod.T\n",
    "        # Sumar el log a priori\n",
    "        log_posteriori = self.log_a_priori.reshape(-1, 1) + log_conditional\n",
    "        \n",
    "        # Elegir la clase con máxima probabilidad log-posteriori\n",
    "        y_hat = np.argmax(log_posteriori, axis=0)\n",
    "        return y_hat.reshape(1, -1)"
   ]
  },
  {
   "cell_type": "code",
   "execution_count": 2343,
   "metadata": {},
   "outputs": [
    {
     "name": "stdout",
     "output_type": "stream",
     "text": [
      "X shape=  (13, 124)\n",
      "y shape=  (1, 124)\n",
      "X shape=  (13, 124)\n",
      "y shape=  (1, 124)\n"
     ]
    },
    {
     "data": {
      "application/vnd.jupyter.widget-view+json": {
       "model_id": "c3f40baed91a4e359854641a201b9d36",
       "version_major": 2,
       "version_minor": 0
      },
      "text/plain": [
       "EfficientQDA (MEM):   0%|          | 0/2 [00:00<?, ?it/s]"
      ]
     },
     "metadata": {},
     "output_type": "display_data"
    },
    {
     "name": "stdout",
     "output_type": "stream",
     "text": [
      "X shape=  (13, 124)\n",
      "y shape=  (1, 124)\n",
      "X shape=  (13, 124)\n",
      "y shape=  (1, 124)\n"
     ]
    },
    {
     "data": {
      "application/vnd.jupyter.widget-view+json": {
       "model_id": "57ff4bf64e4c4afd9196befb4d705189",
       "version_major": 2,
       "version_minor": 0
      },
      "text/plain": [
       "EfficientQDA (TIME):   0%|          | 0/2 [00:00<?, ?it/s]"
      ]
     },
     "metadata": {},
     "output_type": "display_data"
    },
    {
     "name": "stdout",
     "output_type": "stream",
     "text": [
      "X shape=  (13, 124)\n",
      "y shape=  (1, 124)\n",
      "X shape=  (13, 124)\n",
      "y shape=  (1, 124)\n"
     ]
    }
   ],
   "source": [
    "b.bench(EfficientQDA)"
   ]
  },
  {
   "cell_type": "code",
   "execution_count": 2344,
   "metadata": {},
   "outputs": [
    {
     "data": {
      "text/html": [
       "<div>\n",
       "<style scoped>\n",
       "    .dataframe tbody tr th:only-of-type {\n",
       "        vertical-align: middle;\n",
       "    }\n",
       "\n",
       "    .dataframe tbody tr th {\n",
       "        vertical-align: top;\n",
       "    }\n",
       "\n",
       "    .dataframe thead th {\n",
       "        text-align: right;\n",
       "    }\n",
       "</style>\n",
       "<table border=\"1\" class=\"dataframe\">\n",
       "  <thead>\n",
       "    <tr style=\"text-align: right;\">\n",
       "      <th></th>\n",
       "      <th>train_mean_ms</th>\n",
       "      <th>train_std_ms</th>\n",
       "      <th>test_mean_ms</th>\n",
       "      <th>test_std_ms</th>\n",
       "      <th>mean_accuracy</th>\n",
       "      <th>train_mem_mean_mb</th>\n",
       "      <th>train_mem_std_mb</th>\n",
       "      <th>test_mem_mean_mb</th>\n",
       "      <th>test_mem_std_mb</th>\n",
       "    </tr>\n",
       "    <tr>\n",
       "      <th>model</th>\n",
       "      <th></th>\n",
       "      <th></th>\n",
       "      <th></th>\n",
       "      <th></th>\n",
       "      <th></th>\n",
       "      <th></th>\n",
       "      <th></th>\n",
       "      <th></th>\n",
       "      <th></th>\n",
       "    </tr>\n",
       "  </thead>\n",
       "  <tbody>\n",
       "    <tr>\n",
       "      <th>QDA</th>\n",
       "      <td>1.54430</td>\n",
       "      <td>0.12220</td>\n",
       "      <td>2.70360</td>\n",
       "      <td>0.56490</td>\n",
       "      <td>0.981481</td>\n",
       "      <td>0.019663</td>\n",
       "      <td>0.000251</td>\n",
       "      <td>0.008651</td>\n",
       "      <td>0.000531</td>\n",
       "    </tr>\n",
       "    <tr>\n",
       "      <th>TensorizedQDA</th>\n",
       "      <td>1.48250</td>\n",
       "      <td>0.22080</td>\n",
       "      <td>1.31445</td>\n",
       "      <td>0.08665</td>\n",
       "      <td>0.953704</td>\n",
       "      <td>0.019944</td>\n",
       "      <td>0.001127</td>\n",
       "      <td>0.012379</td>\n",
       "      <td>0.000253</td>\n",
       "    </tr>\n",
       "    <tr>\n",
       "      <th>FasterQDA</th>\n",
       "      <td>1.75705</td>\n",
       "      <td>0.49595</td>\n",
       "      <td>0.43505</td>\n",
       "      <td>0.34345</td>\n",
       "      <td>0.981481</td>\n",
       "      <td>0.019274</td>\n",
       "      <td>0.000641</td>\n",
       "      <td>0.128477</td>\n",
       "      <td>0.000276</td>\n",
       "    </tr>\n",
       "    <tr>\n",
       "      <th>FasterQDA_v2</th>\n",
       "      <td>1.55505</td>\n",
       "      <td>0.07225</td>\n",
       "      <td>0.11890</td>\n",
       "      <td>0.00550</td>\n",
       "      <td>0.990741</td>\n",
       "      <td>0.019149</td>\n",
       "      <td>0.000788</td>\n",
       "      <td>0.061057</td>\n",
       "      <td>0.000162</td>\n",
       "    </tr>\n",
       "    <tr>\n",
       "      <th>EfficientQDA</th>\n",
       "      <td>1.50490</td>\n",
       "      <td>0.04810</td>\n",
       "      <td>0.13555</td>\n",
       "      <td>0.00725</td>\n",
       "      <td>0.981481</td>\n",
       "      <td>0.018676</td>\n",
       "      <td>0.000751</td>\n",
       "      <td>0.094651</td>\n",
       "      <td>0.000509</td>\n",
       "    </tr>\n",
       "  </tbody>\n",
       "</table>\n",
       "</div>"
      ],
      "text/plain": [
       "               train_mean_ms  train_std_ms  test_mean_ms  test_std_ms  \\\n",
       "model                                                                   \n",
       "QDA                  1.54430       0.12220       2.70360      0.56490   \n",
       "TensorizedQDA        1.48250       0.22080       1.31445      0.08665   \n",
       "FasterQDA            1.75705       0.49595       0.43505      0.34345   \n",
       "FasterQDA_v2         1.55505       0.07225       0.11890      0.00550   \n",
       "EfficientQDA         1.50490       0.04810       0.13555      0.00725   \n",
       "\n",
       "               mean_accuracy  train_mem_mean_mb  train_mem_std_mb  \\\n",
       "model                                                               \n",
       "QDA                 0.981481           0.019663          0.000251   \n",
       "TensorizedQDA       0.953704           0.019944          0.001127   \n",
       "FasterQDA           0.981481           0.019274          0.000641   \n",
       "FasterQDA_v2        0.990741           0.019149          0.000788   \n",
       "EfficientQDA        0.981481           0.018676          0.000751   \n",
       "\n",
       "               test_mem_mean_mb  test_mem_std_mb  \n",
       "model                                             \n",
       "QDA                    0.008651         0.000531  \n",
       "TensorizedQDA          0.012379         0.000253  \n",
       "FasterQDA              0.128477         0.000276  \n",
       "FasterQDA_v2           0.061057         0.000162  \n",
       "EfficientQDA           0.094651         0.000509  "
      ]
     },
     "execution_count": 2344,
     "metadata": {},
     "output_type": "execute_result"
    }
   ],
   "source": [
    "b.summary()"
   ]
  },
  {
   "cell_type": "markdown",
   "metadata": {},
   "source": [
    "### 7) Comparar la performance de las 4 variantes de QDA implementadas hasta ahora (no Cholesky) ¿Qué se observa? A modo de opinión ¿Se condice con lo esperado?"
   ]
  },
  {
   "cell_type": "markdown",
   "metadata": {},
   "source": [
    "| Aspecto                  | QDA                              | TensorizedQDA                    | FasterQDA_v2                     | EfficientQDA                     |\n",
    "|--------------------------|----------------------------------|----------------------------------|----------------------------------|----------------------------------|\n",
    "| **Bucle sobre observaciones** | Sí $(n)$                    | Sí $(n)$                       | No                               | No                               |\n",
    "| **Bucle sobre clases**   | Sí (\\(k\\))                      | No                              | No                               | No                               |\n",
    "| **Uso de tensorización** | No                              | Sí (sobre clases)               | Sí (sobre clases y observaciones) | Sí (sobre clases y observaciones) |\n",
    "| **Complejidad**          | $O(n \\cdot k \\cdot p^2)$      | $O(n \\cdot p^2)$              | $O(p^2 \\cdot k)$               | $O(p^2 \\cdot k)$               |\n",
    "| **Predicción en lote**   | No                              | No                              | Sí                               | Sí                               |\n",
    "| **Matriz $(n \\times n)$** | No evitada                     | No evitada                     | Evitada                          | Evitada                          |\n",
    "| **Cálculo de log-determinantes** | Correcto (por clase)         | Correcto (por clase)            | Incorrecto (tensor 3D); necesita corrección | Incorrecto (tensor 3D); necesita corrección |\n",
    "| **Estrategia de optimización** | Bucles explícitos             | Tensorización parcial (clases)  | Tensorización completa, términos cuadráticos con `@` | Tensorización completa, suma de productos para términos cuadráticos |\n",
    "\n",
    "**Notas:**\n",
    "- \\(n\\): número de observaciones, \\(k\\): número de clases, \\(p\\): número de características.\n",
    "- **QDA**: Implementación base con bucles sobre observaciones y clases, menos eficiente para grandes \\(n\\) y \\(k\\).\n",
    "- **TensorizedQDA**: Elimina el bucle sobre clases usando tensorización, pero aún itera sobre observaciones.\n",
    "- **FasterQDA_v2**: Procesa todas las observaciones y clases simultáneamente con operaciones matriciales batcheadas, pero requiere corregir el cálculo de `log(LA.det(self.tensor_inv_cov))` almacenando `self.log_dets` en `_fit_params`.\n",
    "- **EfficientQDA**: Similar a `FasterQDA_v2`, usa tensorización completa y optimiza términos cuadráticos con suma de productos, pero también necesita corregir el cálculo de log-determinantes.\n",
    "- Para ambos, `FasterQDA_v2` y `EfficientQDA`, se recomienda implementar:\n",
    "  ```python\n",
    "  def _fit_params(self, X, y):\n",
    "      super()._fit_params(X, y)\n",
    "      self.log_dets = np.array([np.log(np.linalg.det(self.covs_[k])) for k in range(len(self.log_a_priori))])"
   ]
  },
  {
   "cell_type": "markdown",
   "metadata": {},
   "source": [
    "### 8. Si una matriz $A$ tiene fact. de Cholesky $A=LL^T$, expresar $A^{-1}$ en términos de $L$. ¿Cómo podría esto ser útil en la forma cuadrática de QDA?\n",
    "\n",
    "La matriz $A^{-1}=(LL^T)^{-1}=L^{-T}L^{-1}$\n",
    "\n",
    "Para aplicar Cholesky, requiero que la matriz sea simétrica y definida positiva. La primera condición se cumple siempre para la matriz de covarianza, mientras que la segunda siempre que no haya dependencia lineal exacta entre variables. Suponiendo que las condiciones se cumplen, puedo expresar:\n",
    "\n",
    "$\\Sigma_j^{-1} = L_j^{-T}L_j^{-1}$\n",
    "\n",
    "Esto permite expresar la inversa de la matriz de covarianzas en función de las matrices $L^{-1}$\n",
    "\n",
    "Recordando que teníamos:\n",
    "$$\n",
    "\\log{f_j(x)} = -\\frac{1}{2}\\log |\\Sigma_j| - \\frac{1}{2} (x-\\mu_j)^T \\Sigma_j^{-1} (x- \\mu_j) + C\n",
    "$$\n",
    "\n",
    "*   El primer término es:\n",
    "    $$ -\\frac{1}{2}\\log |\\Sigma_j|= -\\frac{1}{2}\\log |L_jL_j^T|=\\frac{1}{2}\\log (|L_j||L_j^T|)=-\\frac{1}{2}\\log (|L_j||L_j|)=\\frac{1}{2}\\log (|L_j|^2)=-\\log (|L_j|)$$\n",
    "    \n",
    "    Y el determinante de una matriz diagonal es el producto de los valores de la diagonal:\n",
    "    $$|L_j|=\\prod_{i=1}^{n} L_{ii}$$\n",
    "\n",
    "    En la aplicación en código, se calcula el determinante sobre la inversa, por lo que cancela el signo negativo\n",
    "\n",
    "*   Reemplazando el segundo término de $\\log{f_j(x)}$ con esta definición:\n",
    "    $$\\frac{1}{2}(x-\\mu_j)^T \\Sigma_j^{-1} (x- \\mu_j)=\\frac{1}{2}(x-\\mu_j)^T  L_j^{-T}L_j^{-1} (x- \\mu_j)$$\n",
    "\n",
    "    Y si defino $y=L^{-1} (x- \\mu_j)$, obtengo que:\n",
    "    $$\\frac{1}{2}(x-\\mu_j)^T \\Sigma_j^{-1} (x- \\mu_j)=\\frac{1}{2}(x-\\mu_j)^T  L_j^{-T}L_j^{-1} (x- \\mu_j)=\\frac{1}{2}y^Ty=\\frac{1}{2}\\|y\\|^2$$\n",
    "\n",
    "Esto significa que puedo obtener el ambos términos de $\\log{f_j(x)}$ calculando únicamente la matriz $L_j^{-1}$, sin necesidad de reconstruir la inversa completa $\\Sigma_j^{-1}$. Y como $L_j$ es una matriz triangular, invertirla es más barato computacionalmente"
   ]
  },
  {
   "cell_type": "markdown",
   "metadata": {},
   "source": [
    "### 9. Explicar las diferencias entre `QDA_Chol1`y `QDA` y cómo `QDA_Chol1` llega, paso a paso, hasta las predicciones.\n",
    "\n",
    "De acuerdo a lo demostrado en el punto anterior, podemos aprovechar la factorización de Cholesky para expresar $\\Sigma_j^{-1}$ como L_j^{-T}L_j^{-1}$, y esto nos permite expresar la log probabilidad condicional (sin el término constante), como:\n",
    "\n",
    "$$\n",
    "\\log{f_j(x)} = \\frac{1}{2}\\log |\\Sigma_j^{-1}| - \\frac{1}{2} (x-\\mu_j)^T \\Sigma_j^{-1} (x- \\mu_j) = \\log (|L_j^{-1}|) - \\frac{1}{2}\\|y\\|^2\n",
    "$$\n",
    "$$\n",
    "\\log{f_j(x)} = \\log (|L_j^{-1}|) - \\frac{1}{2}\\|y\\|^2\n",
    "$$\n",
    "$$\n",
    "\\log{f_j(x)} = \\log (\\prod_{i=1}^{n} L_{ii}^{-1}) - \\frac{1}{2}\\|L^{-1} (x- \\mu_j)\\|^2\n",
    "$$\n",
    "\n",
    "A nivel de código, dentro de la función `_fit_params` obtiene la matriz $L$ para cada clase y calcula la inversa con la siguiente línea:<br>\n",
    "    ```self.L_invs = [\n",
    "            inv(cholesky(np.cov(X[:,y.flatten()==idx], bias=True), lower=True))\n",
    "            for idx in range(len(self.log_a_priori))\n",
    "        ]\n",
    "    ```\n",
    "\n",
    "Luego dentro de la función `_predict_log_conditional`, calcula el vector $y$:<br>\n",
    "    ```y = L_inv @ unbiased_x```\n",
    "\n",
    "Y finalmente obtiene la log probabilidad condicional de acuerdo a la fórmula expresada al inicio con la siguiente línea:<br>\n",
    "    ```np.log(L_inv.diagonal().prod()) -0.5 * (y**2).sum()```\n",
    "\n",
    "Luego de lo cual lo utiliza para las predicciones con a la misma función que utilizaba `QDA`"
   ]
  },
  {
   "cell_type": "markdown",
   "metadata": {},
   "source": [
    "### 10. ¿Cuáles son las diferencias entre `QDA_Chol1`, `QDA_Chol2` y `QDA_Chol3`?\n",
    "Las principales diferencias de  `QDA_Chol2` y `QDA_Chol3` con respecto a la versión `QDA_Chol1` explicada en la pregunta anterior son:\n",
    "* `QDA_Chol2`: factoriza la matriz $L$ de Cholesky pero no la invierte. Recordemos que la log probabilidad condicional en función de $L$ se expresaba de la siguiente forma:\n",
    "$$\n",
    "\\log{f_j(x)} = \\log (\\prod_{i=1}^{n} L_{ii}^{-1}) - \\frac{1}{2}\\|L^{-1} (x- \\mu_j)\\|^2\n",
    "$$\n",
    "Para calcular el primer término se puede utilizar directamente $L$ sin invertir, con el único cambio de que se agrega el signo negativo (ya que esto parte de si utilizamos $|\\Sigma_j^{-1}|$ o $|\\Sigma_j|$ en la ecuación original).<br>\n",
    "No obstante, el término $y=L^{-1} (x- \\mu_j)$ sí requeriría invertir la matriz $L$. La forma en que lo resuelve es utilizando la función `solve_triangular`, que resuelve la ecuación $Ax = b$ y obtiene $x$ para matrices triangulares utilizando sustitución en lugar de invertir.<br>\n",
    "Aplicada a $y$, lo que se termina obteniendo es:\n",
    "$$\n",
    "Ly=(x- \\mu_j) \\rightarrow y=L^{-1} (x- \\mu_j)\n",
    "$$\n",
    "De esta forma, logra obtener los términos de log probabilidad condicional sin invertir la matriz $L$\n",
    "* `QDA_Chol3`: es similar `QDA_Chol1` en que calcula la inversa de $L$, pero para hacerlo utiliza la función `dtrtri` en lugar de las funciones de Numpy. Esta función es de bajo nivel e invierte específicamente matrices triangulares, por lo que lo hace de forma más eficiente"
   ]
  },
  {
   "cell_type": "markdown",
   "metadata": {},
   "source": [
    "### 11. Comparar la performance de las 7 variantes de QDA implementadas hasta ahora ¿Qué se observa?¿Hay alguna de las implementaciones de `QDA_Chol` que sea claramente mejor que las demás?¿Alguna que sea peor?"
   ]
  },
  {
   "cell_type": "code",
   "execution_count": 2345,
   "metadata": {},
   "outputs": [
    {
     "data": {
      "application/vnd.jupyter.widget-view+json": {
       "model_id": "a258b502135d4eaaa9eabbd3ce87efd1",
       "version_major": 2,
       "version_minor": 0
      },
      "text/plain": [
       "QDA_Chol1 (MEM):   0%|          | 0/2 [00:00<?, ?it/s]"
      ]
     },
     "metadata": {},
     "output_type": "display_data"
    },
    {
     "data": {
      "application/vnd.jupyter.widget-view+json": {
       "model_id": "ad648b9d05e44c81bbdd98c9cc6c208b",
       "version_major": 2,
       "version_minor": 0
      },
      "text/plain": [
       "QDA_Chol1 (TIME):   0%|          | 0/2 [00:00<?, ?it/s]"
      ]
     },
     "metadata": {},
     "output_type": "display_data"
    }
   ],
   "source": [
    "b.bench(QDA_Chol1)"
   ]
  },
  {
   "cell_type": "code",
   "execution_count": 2346,
   "metadata": {},
   "outputs": [
    {
     "data": {
      "application/vnd.jupyter.widget-view+json": {
       "model_id": "9e40395166904a2a910647124a63ec9d",
       "version_major": 2,
       "version_minor": 0
      },
      "text/plain": [
       "QDA_Chol2 (MEM):   0%|          | 0/2 [00:00<?, ?it/s]"
      ]
     },
     "metadata": {},
     "output_type": "display_data"
    },
    {
     "data": {
      "application/vnd.jupyter.widget-view+json": {
       "model_id": "b1802c40141a4962943c3fb59129ba69",
       "version_major": 2,
       "version_minor": 0
      },
      "text/plain": [
       "QDA_Chol2 (TIME):   0%|          | 0/2 [00:00<?, ?it/s]"
      ]
     },
     "metadata": {},
     "output_type": "display_data"
    }
   ],
   "source": [
    "b.bench(QDA_Chol2)"
   ]
  },
  {
   "cell_type": "code",
   "execution_count": 2347,
   "metadata": {},
   "outputs": [
    {
     "data": {
      "application/vnd.jupyter.widget-view+json": {
       "model_id": "e765b934b9584e1b9450fbe642ec9b50",
       "version_major": 2,
       "version_minor": 0
      },
      "text/plain": [
       "QDA_Chol3 (MEM):   0%|          | 0/2 [00:00<?, ?it/s]"
      ]
     },
     "metadata": {},
     "output_type": "display_data"
    },
    {
     "data": {
      "application/vnd.jupyter.widget-view+json": {
       "model_id": "5b7abea51b5240dd8fc9165de731a868",
       "version_major": 2,
       "version_minor": 0
      },
      "text/plain": [
       "QDA_Chol3 (TIME):   0%|          | 0/2 [00:00<?, ?it/s]"
      ]
     },
     "metadata": {},
     "output_type": "display_data"
    }
   ],
   "source": [
    "b.bench(QDA_Chol3)"
   ]
  },
  {
   "cell_type": "code",
   "execution_count": 2348,
   "metadata": {},
   "outputs": [
    {
     "data": {
      "text/html": [
       "<div>\n",
       "<style scoped>\n",
       "    .dataframe tbody tr th:only-of-type {\n",
       "        vertical-align: middle;\n",
       "    }\n",
       "\n",
       "    .dataframe tbody tr th {\n",
       "        vertical-align: top;\n",
       "    }\n",
       "\n",
       "    .dataframe thead th {\n",
       "        text-align: right;\n",
       "    }\n",
       "</style>\n",
       "<table border=\"1\" class=\"dataframe\">\n",
       "  <thead>\n",
       "    <tr style=\"text-align: right;\">\n",
       "      <th></th>\n",
       "      <th>train_mean_ms</th>\n",
       "      <th>train_std_ms</th>\n",
       "      <th>test_mean_ms</th>\n",
       "      <th>test_std_ms</th>\n",
       "      <th>mean_accuracy</th>\n",
       "      <th>train_mem_mean_mb</th>\n",
       "      <th>train_mem_std_mb</th>\n",
       "      <th>test_mem_mean_mb</th>\n",
       "      <th>test_mem_std_mb</th>\n",
       "    </tr>\n",
       "    <tr>\n",
       "      <th>model</th>\n",
       "      <th></th>\n",
       "      <th></th>\n",
       "      <th></th>\n",
       "      <th></th>\n",
       "      <th></th>\n",
       "      <th></th>\n",
       "      <th></th>\n",
       "      <th></th>\n",
       "      <th></th>\n",
       "    </tr>\n",
       "  </thead>\n",
       "  <tbody>\n",
       "    <tr>\n",
       "      <th>QDA</th>\n",
       "      <td>1.54430</td>\n",
       "      <td>0.12220</td>\n",
       "      <td>2.70360</td>\n",
       "      <td>0.56490</td>\n",
       "      <td>0.981481</td>\n",
       "      <td>0.019663</td>\n",
       "      <td>0.000251</td>\n",
       "      <td>0.008651</td>\n",
       "      <td>0.000531</td>\n",
       "    </tr>\n",
       "    <tr>\n",
       "      <th>TensorizedQDA</th>\n",
       "      <td>1.48250</td>\n",
       "      <td>0.22080</td>\n",
       "      <td>1.31445</td>\n",
       "      <td>0.08665</td>\n",
       "      <td>0.953704</td>\n",
       "      <td>0.019944</td>\n",
       "      <td>0.001127</td>\n",
       "      <td>0.012379</td>\n",
       "      <td>0.000253</td>\n",
       "    </tr>\n",
       "    <tr>\n",
       "      <th>FasterQDA</th>\n",
       "      <td>1.75705</td>\n",
       "      <td>0.49595</td>\n",
       "      <td>0.43505</td>\n",
       "      <td>0.34345</td>\n",
       "      <td>0.981481</td>\n",
       "      <td>0.019274</td>\n",
       "      <td>0.000641</td>\n",
       "      <td>0.128477</td>\n",
       "      <td>0.000276</td>\n",
       "    </tr>\n",
       "    <tr>\n",
       "      <th>FasterQDA_v2</th>\n",
       "      <td>1.55505</td>\n",
       "      <td>0.07225</td>\n",
       "      <td>0.11890</td>\n",
       "      <td>0.00550</td>\n",
       "      <td>0.990741</td>\n",
       "      <td>0.019149</td>\n",
       "      <td>0.000788</td>\n",
       "      <td>0.061057</td>\n",
       "      <td>0.000162</td>\n",
       "    </tr>\n",
       "    <tr>\n",
       "      <th>EfficientQDA</th>\n",
       "      <td>1.50490</td>\n",
       "      <td>0.04810</td>\n",
       "      <td>0.13555</td>\n",
       "      <td>0.00725</td>\n",
       "      <td>0.981481</td>\n",
       "      <td>0.018676</td>\n",
       "      <td>0.000751</td>\n",
       "      <td>0.094651</td>\n",
       "      <td>0.000509</td>\n",
       "    </tr>\n",
       "    <tr>\n",
       "      <th>QDA_Chol1</th>\n",
       "      <td>1.72855</td>\n",
       "      <td>0.21825</td>\n",
       "      <td>1.36640</td>\n",
       "      <td>0.01580</td>\n",
       "      <td>0.981481</td>\n",
       "      <td>0.018883</td>\n",
       "      <td>0.000298</td>\n",
       "      <td>0.008022</td>\n",
       "      <td>0.000057</td>\n",
       "    </tr>\n",
       "    <tr>\n",
       "      <th>QDA_Chol2</th>\n",
       "      <td>0.47215</td>\n",
       "      <td>0.11555</td>\n",
       "      <td>3.07555</td>\n",
       "      <td>0.04095</td>\n",
       "      <td>1.000000</td>\n",
       "      <td>0.019664</td>\n",
       "      <td>0.000736</td>\n",
       "      <td>0.008649</td>\n",
       "      <td>0.000333</td>\n",
       "    </tr>\n",
       "    <tr>\n",
       "      <th>QDA_Chol3</th>\n",
       "      <td>0.81475</td>\n",
       "      <td>0.23015</td>\n",
       "      <td>1.28770</td>\n",
       "      <td>0.08540</td>\n",
       "      <td>0.972222</td>\n",
       "      <td>0.018130</td>\n",
       "      <td>0.000104</td>\n",
       "      <td>0.007936</td>\n",
       "      <td>0.000132</td>\n",
       "    </tr>\n",
       "  </tbody>\n",
       "</table>\n",
       "</div>"
      ],
      "text/plain": [
       "               train_mean_ms  train_std_ms  test_mean_ms  test_std_ms  \\\n",
       "model                                                                   \n",
       "QDA                  1.54430       0.12220       2.70360      0.56490   \n",
       "TensorizedQDA        1.48250       0.22080       1.31445      0.08665   \n",
       "FasterQDA            1.75705       0.49595       0.43505      0.34345   \n",
       "FasterQDA_v2         1.55505       0.07225       0.11890      0.00550   \n",
       "EfficientQDA         1.50490       0.04810       0.13555      0.00725   \n",
       "QDA_Chol1            1.72855       0.21825       1.36640      0.01580   \n",
       "QDA_Chol2            0.47215       0.11555       3.07555      0.04095   \n",
       "QDA_Chol3            0.81475       0.23015       1.28770      0.08540   \n",
       "\n",
       "               mean_accuracy  train_mem_mean_mb  train_mem_std_mb  \\\n",
       "model                                                               \n",
       "QDA                 0.981481           0.019663          0.000251   \n",
       "TensorizedQDA       0.953704           0.019944          0.001127   \n",
       "FasterQDA           0.981481           0.019274          0.000641   \n",
       "FasterQDA_v2        0.990741           0.019149          0.000788   \n",
       "EfficientQDA        0.981481           0.018676          0.000751   \n",
       "QDA_Chol1           0.981481           0.018883          0.000298   \n",
       "QDA_Chol2           1.000000           0.019664          0.000736   \n",
       "QDA_Chol3           0.972222           0.018130          0.000104   \n",
       "\n",
       "               test_mem_mean_mb  test_mem_std_mb  \n",
       "model                                             \n",
       "QDA                    0.008651         0.000531  \n",
       "TensorizedQDA          0.012379         0.000253  \n",
       "FasterQDA              0.128477         0.000276  \n",
       "FasterQDA_v2           0.061057         0.000162  \n",
       "EfficientQDA           0.094651         0.000509  \n",
       "QDA_Chol1              0.008022         0.000057  \n",
       "QDA_Chol2              0.008649         0.000333  \n",
       "QDA_Chol3              0.007936         0.000132  "
      ]
     },
     "execution_count": 2348,
     "metadata": {},
     "output_type": "execute_result"
    }
   ],
   "source": [
    "b.summary()"
   ]
  },
  {
   "cell_type": "markdown",
   "metadata": {},
   "source": [
    "Se observa que:\n",
    "* `QDA_Chol1`: el tiempo promedio de entrenamiento de no resulta mejor a las versiones de QDA que no utilizaban Cholesky, siendo incluso superior a QDA. Esto podría deberse a que ahora realiza dos pasos (factorización de Cholesky, e invertir $L$), por lo que no mejora los tiempos.\n",
    "* `QDA_Chol2`: se observa una mejora significativa en el tiempo promedio de entrenamiento respecto a las versiones anteriores, lo cual se debe a que ahora no se invierte la matriz $L$. No obstante los tiempos promedios de test resultan muy superiores al resto, debido a que ahora cada vez que se realiza una predicción utiliza la función solve_triangular\n",
    "* `QDA_Chol3`: esta implementación sería la óptima, ya que logra una mejora en los tiempos promedios de entrenamiento, sin empeorar los tiempos de test"
   ]
  },
  {
   "cell_type": "markdown",
   "metadata": {},
   "source": [
    "### 12. Implementar el modelo `TensorizedChol` paralelizando sobre clases/observaciones según corresponda. Se recomienda heredarlo de alguna de las implementaciones de `QDA_Chol`, aunque la elección de cuál de ellas queda a cargo del alumno según lo observado en los benchmarks de puntos anteriores.\n"
   ]
  },
  {
   "cell_type": "markdown",
   "metadata": {},
   "source": [
    "Dado que la implementación óptima de Cholesky según los benchmarks es `QDA_Chol3`, utilizamos ésta como base"
   ]
  },
  {
   "cell_type": "code",
   "execution_count": 2349,
   "metadata": {},
   "outputs": [],
   "source": [
    "class TensorizedChol(QDA_Chol3):\n",
    "\n",
    "    def _fit_params(self, X, y):\n",
    "        # ask plain QDA to fit params\n",
    "        super()._fit_params(X,y)\n",
    "\n",
    "        # stack onto new dimension\n",
    "        self.tensor_L_invs = np.stack(self.L_invs)\n",
    "        self.tensor_means = np.stack(self.means)\n",
    "\n",
    "    def _predict_log_conditionals(self,x):\n",
    "        unbiased_x = x - self.tensor_means\n",
    "        y = self.tensor_L_invs @ unbiased_x\n",
    "        return -np.log(self.tensor_L_invs.diagonal(axis1=1, axis2=2).prod(axis=1)).reshape(-1,1) -0.5 * (y**2).sum(axis=1)\n",
    "\n",
    "    def _predict_one(self, x):\n",
    "        # return the class that has maximum a posteriori probability\n",
    "        test = self.log_a_priori + self._predict_log_conditionals(x)\n",
    "        return np.argmax(self.log_a_priori.reshape(-1,1) + self._predict_log_conditionals(x))"
   ]
  },
  {
   "cell_type": "code",
   "execution_count": 2350,
   "metadata": {},
   "outputs": [
    {
     "data": {
      "application/vnd.jupyter.widget-view+json": {
       "model_id": "2996943ac8e34ad7b93052b901b05dc6",
       "version_major": 2,
       "version_minor": 0
      },
      "text/plain": [
       "TensorizedChol (MEM):   0%|          | 0/2 [00:00<?, ?it/s]"
      ]
     },
     "metadata": {},
     "output_type": "display_data"
    },
    {
     "data": {
      "application/vnd.jupyter.widget-view+json": {
       "model_id": "16ce99b7f93748ccbd8176104714a8e0",
       "version_major": 2,
       "version_minor": 0
      },
      "text/plain": [
       "TensorizedChol (TIME):   0%|          | 0/2 [00:00<?, ?it/s]"
      ]
     },
     "metadata": {},
     "output_type": "display_data"
    }
   ],
   "source": [
    "b.bench(TensorizedChol)"
   ]
  },
  {
   "cell_type": "code",
   "execution_count": 2351,
   "metadata": {},
   "outputs": [
    {
     "data": {
      "text/html": [
       "<div>\n",
       "<style scoped>\n",
       "    .dataframe tbody tr th:only-of-type {\n",
       "        vertical-align: middle;\n",
       "    }\n",
       "\n",
       "    .dataframe tbody tr th {\n",
       "        vertical-align: top;\n",
       "    }\n",
       "\n",
       "    .dataframe thead th {\n",
       "        text-align: right;\n",
       "    }\n",
       "</style>\n",
       "<table border=\"1\" class=\"dataframe\">\n",
       "  <thead>\n",
       "    <tr style=\"text-align: right;\">\n",
       "      <th></th>\n",
       "      <th>train_mean_ms</th>\n",
       "      <th>train_std_ms</th>\n",
       "      <th>test_mean_ms</th>\n",
       "      <th>test_std_ms</th>\n",
       "      <th>mean_accuracy</th>\n",
       "      <th>train_mem_mean_mb</th>\n",
       "      <th>train_mem_std_mb</th>\n",
       "      <th>test_mem_mean_mb</th>\n",
       "      <th>test_mem_std_mb</th>\n",
       "    </tr>\n",
       "    <tr>\n",
       "      <th>model</th>\n",
       "      <th></th>\n",
       "      <th></th>\n",
       "      <th></th>\n",
       "      <th></th>\n",
       "      <th></th>\n",
       "      <th></th>\n",
       "      <th></th>\n",
       "      <th></th>\n",
       "      <th></th>\n",
       "    </tr>\n",
       "  </thead>\n",
       "  <tbody>\n",
       "    <tr>\n",
       "      <th>QDA</th>\n",
       "      <td>1.54430</td>\n",
       "      <td>0.12220</td>\n",
       "      <td>2.70360</td>\n",
       "      <td>0.56490</td>\n",
       "      <td>0.981481</td>\n",
       "      <td>0.019663</td>\n",
       "      <td>0.000251</td>\n",
       "      <td>0.008651</td>\n",
       "      <td>0.000531</td>\n",
       "    </tr>\n",
       "    <tr>\n",
       "      <th>TensorizedQDA</th>\n",
       "      <td>1.48250</td>\n",
       "      <td>0.22080</td>\n",
       "      <td>1.31445</td>\n",
       "      <td>0.08665</td>\n",
       "      <td>0.953704</td>\n",
       "      <td>0.019944</td>\n",
       "      <td>0.001127</td>\n",
       "      <td>0.012379</td>\n",
       "      <td>0.000253</td>\n",
       "    </tr>\n",
       "    <tr>\n",
       "      <th>FasterQDA</th>\n",
       "      <td>1.75705</td>\n",
       "      <td>0.49595</td>\n",
       "      <td>0.43505</td>\n",
       "      <td>0.34345</td>\n",
       "      <td>0.981481</td>\n",
       "      <td>0.019274</td>\n",
       "      <td>0.000641</td>\n",
       "      <td>0.128477</td>\n",
       "      <td>0.000276</td>\n",
       "    </tr>\n",
       "    <tr>\n",
       "      <th>FasterQDA_v2</th>\n",
       "      <td>1.55505</td>\n",
       "      <td>0.07225</td>\n",
       "      <td>0.11890</td>\n",
       "      <td>0.00550</td>\n",
       "      <td>0.990741</td>\n",
       "      <td>0.019149</td>\n",
       "      <td>0.000788</td>\n",
       "      <td>0.061057</td>\n",
       "      <td>0.000162</td>\n",
       "    </tr>\n",
       "    <tr>\n",
       "      <th>EfficientQDA</th>\n",
       "      <td>1.50490</td>\n",
       "      <td>0.04810</td>\n",
       "      <td>0.13555</td>\n",
       "      <td>0.00725</td>\n",
       "      <td>0.981481</td>\n",
       "      <td>0.018676</td>\n",
       "      <td>0.000751</td>\n",
       "      <td>0.094651</td>\n",
       "      <td>0.000509</td>\n",
       "    </tr>\n",
       "    <tr>\n",
       "      <th>QDA_Chol1</th>\n",
       "      <td>1.72855</td>\n",
       "      <td>0.21825</td>\n",
       "      <td>1.36640</td>\n",
       "      <td>0.01580</td>\n",
       "      <td>0.981481</td>\n",
       "      <td>0.018883</td>\n",
       "      <td>0.000298</td>\n",
       "      <td>0.008022</td>\n",
       "      <td>0.000057</td>\n",
       "    </tr>\n",
       "    <tr>\n",
       "      <th>QDA_Chol2</th>\n",
       "      <td>0.47215</td>\n",
       "      <td>0.11555</td>\n",
       "      <td>3.07555</td>\n",
       "      <td>0.04095</td>\n",
       "      <td>1.000000</td>\n",
       "      <td>0.019664</td>\n",
       "      <td>0.000736</td>\n",
       "      <td>0.008649</td>\n",
       "      <td>0.000333</td>\n",
       "    </tr>\n",
       "    <tr>\n",
       "      <th>QDA_Chol3</th>\n",
       "      <td>0.81475</td>\n",
       "      <td>0.23015</td>\n",
       "      <td>1.28770</td>\n",
       "      <td>0.08540</td>\n",
       "      <td>0.972222</td>\n",
       "      <td>0.018130</td>\n",
       "      <td>0.000104</td>\n",
       "      <td>0.007936</td>\n",
       "      <td>0.000132</td>\n",
       "    </tr>\n",
       "    <tr>\n",
       "      <th>TensorizedChol</th>\n",
       "      <td>0.47545</td>\n",
       "      <td>0.19825</td>\n",
       "      <td>1.59330</td>\n",
       "      <td>0.31810</td>\n",
       "      <td>0.925926</td>\n",
       "      <td>0.018082</td>\n",
       "      <td>0.001236</td>\n",
       "      <td>0.013573</td>\n",
       "      <td>0.000046</td>\n",
       "    </tr>\n",
       "  </tbody>\n",
       "</table>\n",
       "</div>"
      ],
      "text/plain": [
       "                train_mean_ms  train_std_ms  test_mean_ms  test_std_ms  \\\n",
       "model                                                                    \n",
       "QDA                   1.54430       0.12220       2.70360      0.56490   \n",
       "TensorizedQDA         1.48250       0.22080       1.31445      0.08665   \n",
       "FasterQDA             1.75705       0.49595       0.43505      0.34345   \n",
       "FasterQDA_v2          1.55505       0.07225       0.11890      0.00550   \n",
       "EfficientQDA          1.50490       0.04810       0.13555      0.00725   \n",
       "QDA_Chol1             1.72855       0.21825       1.36640      0.01580   \n",
       "QDA_Chol2             0.47215       0.11555       3.07555      0.04095   \n",
       "QDA_Chol3             0.81475       0.23015       1.28770      0.08540   \n",
       "TensorizedChol        0.47545       0.19825       1.59330      0.31810   \n",
       "\n",
       "                mean_accuracy  train_mem_mean_mb  train_mem_std_mb  \\\n",
       "model                                                                \n",
       "QDA                  0.981481           0.019663          0.000251   \n",
       "TensorizedQDA        0.953704           0.019944          0.001127   \n",
       "FasterQDA            0.981481           0.019274          0.000641   \n",
       "FasterQDA_v2         0.990741           0.019149          0.000788   \n",
       "EfficientQDA         0.981481           0.018676          0.000751   \n",
       "QDA_Chol1            0.981481           0.018883          0.000298   \n",
       "QDA_Chol2            1.000000           0.019664          0.000736   \n",
       "QDA_Chol3            0.972222           0.018130          0.000104   \n",
       "TensorizedChol       0.925926           0.018082          0.001236   \n",
       "\n",
       "                test_mem_mean_mb  test_mem_std_mb  \n",
       "model                                              \n",
       "QDA                     0.008651         0.000531  \n",
       "TensorizedQDA           0.012379         0.000253  \n",
       "FasterQDA               0.128477         0.000276  \n",
       "FasterQDA_v2            0.061057         0.000162  \n",
       "EfficientQDA            0.094651         0.000509  \n",
       "QDA_Chol1               0.008022         0.000057  \n",
       "QDA_Chol2               0.008649         0.000333  \n",
       "QDA_Chol3               0.007936         0.000132  \n",
       "TensorizedChol          0.013573         0.000046  "
      ]
     },
     "execution_count": 2351,
     "metadata": {},
     "output_type": "execute_result"
    }
   ],
   "source": [
    "b.summary()"
   ]
  },
  {
   "cell_type": "markdown",
   "metadata": {},
   "source": [
    "Observamos que la implementación de `TensorizedChol` mantiene el bajo tiempo de entrenamiento `QDA_Chol3` y mejora el tiempo de test"
   ]
  },
  {
   "cell_type": "markdown",
   "metadata": {},
   "source": [
    "### 13. Implementar el modelo `EfficientChol` combinando los insights de `EfficientQDA` y `TensorizedChol`. Si se desea, se puede implementar `FasterChol` como ayuda, pero no se contempla para el punto.\n"
   ]
  },
  {
   "cell_type": "code",
   "execution_count": 2352,
   "metadata": {},
   "outputs": [],
   "source": [
    "class EfficientChol(TensorizedChol):\n",
    "    def predict(self, X):\n",
    "        m_obs = X.shape[1]\n",
    "        k_classes = len(self.log_a_priori)\n",
    "        \n",
    "        # Calcular las log-posteriori para todas las observaciones y clases\n",
    "        log_posteriori = np.empty((k_classes, m_obs))\n",
    "        \n",
    "        X_expandido = np.expand_dims(X, axis=0)  # (m_obs, 1, n_features, 1)\n",
    "        X_expandido = np.repeat(X_expandido, repeats=len(self.log_a_priori), axis=0)\n",
    "        \n",
    "        # Diferencia entre X y la media de la clase k\n",
    "        unbiased_X = X - self.tensor_means\n",
    "        # Calcular tensor_L_invs @ (X - mu_k)\n",
    "        y = self.tensor_L_invs @ unbiased_X\n",
    "        # Extraer solo la diagonal (log-probabilidad condicional para cada observación)\n",
    "        log_conditional = -np.log(self.tensor_L_invs.diagonal(axis1=1, axis2=2).prod(axis=1)).reshape(-1, 1) -0.5 * (y**2).sum(axis=1)\n",
    "        # Sumar el log a priori\n",
    "        log_posteriori = self.log_a_priori.reshape(-1, 1) + log_conditional\n",
    "        \n",
    "        # Elegir la clase con máxima probabilidad log-posteriori\n",
    "        y_hat = np.argmax(log_posteriori, axis=0)\n",
    "        return y_hat.reshape(1, -1)"
   ]
  },
  {
   "cell_type": "code",
   "execution_count": 2353,
   "metadata": {},
   "outputs": [
    {
     "data": {
      "application/vnd.jupyter.widget-view+json": {
       "model_id": "bfe324de430a4761a1ab39aeaf384688",
       "version_major": 2,
       "version_minor": 0
      },
      "text/plain": [
       "EfficientChol (MEM):   0%|          | 0/2 [00:00<?, ?it/s]"
      ]
     },
     "metadata": {},
     "output_type": "display_data"
    },
    {
     "data": {
      "application/vnd.jupyter.widget-view+json": {
       "model_id": "5e8e83ac81f04e239233f382f2175b6f",
       "version_major": 2,
       "version_minor": 0
      },
      "text/plain": [
       "EfficientChol (TIME):   0%|          | 0/2 [00:00<?, ?it/s]"
      ]
     },
     "metadata": {},
     "output_type": "display_data"
    }
   ],
   "source": [
    "b.bench(EfficientChol)"
   ]
  },
  {
   "cell_type": "markdown",
   "metadata": {},
   "source": [
    "### 14. Comparar la performance de las 9 variantes de QDA implementadas ¿Qué se observa? A modo de opinión ¿Se condice con lo esperado?"
   ]
  },
  {
   "cell_type": "markdown",
   "metadata": {},
   "source": [
    "Ejecutamos el summary con todas las variantes de QDA implementadas"
   ]
  },
  {
   "cell_type": "code",
   "execution_count": 2354,
   "metadata": {},
   "outputs": [
    {
     "data": {
      "text/html": [
       "<div>\n",
       "<style scoped>\n",
       "    .dataframe tbody tr th:only-of-type {\n",
       "        vertical-align: middle;\n",
       "    }\n",
       "\n",
       "    .dataframe tbody tr th {\n",
       "        vertical-align: top;\n",
       "    }\n",
       "\n",
       "    .dataframe thead th {\n",
       "        text-align: right;\n",
       "    }\n",
       "</style>\n",
       "<table border=\"1\" class=\"dataframe\">\n",
       "  <thead>\n",
       "    <tr style=\"text-align: right;\">\n",
       "      <th></th>\n",
       "      <th>train_mean_ms</th>\n",
       "      <th>train_std_ms</th>\n",
       "      <th>test_mean_ms</th>\n",
       "      <th>test_std_ms</th>\n",
       "      <th>mean_accuracy</th>\n",
       "      <th>train_mem_mean_mb</th>\n",
       "      <th>train_mem_std_mb</th>\n",
       "      <th>test_mem_mean_mb</th>\n",
       "      <th>test_mem_std_mb</th>\n",
       "    </tr>\n",
       "    <tr>\n",
       "      <th>model</th>\n",
       "      <th></th>\n",
       "      <th></th>\n",
       "      <th></th>\n",
       "      <th></th>\n",
       "      <th></th>\n",
       "      <th></th>\n",
       "      <th></th>\n",
       "      <th></th>\n",
       "      <th></th>\n",
       "    </tr>\n",
       "  </thead>\n",
       "  <tbody>\n",
       "    <tr>\n",
       "      <th>QDA</th>\n",
       "      <td>1.54430</td>\n",
       "      <td>0.12220</td>\n",
       "      <td>2.70360</td>\n",
       "      <td>0.56490</td>\n",
       "      <td>0.981481</td>\n",
       "      <td>0.019663</td>\n",
       "      <td>0.000251</td>\n",
       "      <td>0.008651</td>\n",
       "      <td>0.000531</td>\n",
       "    </tr>\n",
       "    <tr>\n",
       "      <th>TensorizedQDA</th>\n",
       "      <td>1.48250</td>\n",
       "      <td>0.22080</td>\n",
       "      <td>1.31445</td>\n",
       "      <td>0.08665</td>\n",
       "      <td>0.953704</td>\n",
       "      <td>0.019944</td>\n",
       "      <td>0.001127</td>\n",
       "      <td>0.012379</td>\n",
       "      <td>0.000253</td>\n",
       "    </tr>\n",
       "    <tr>\n",
       "      <th>FasterQDA</th>\n",
       "      <td>1.75705</td>\n",
       "      <td>0.49595</td>\n",
       "      <td>0.43505</td>\n",
       "      <td>0.34345</td>\n",
       "      <td>0.981481</td>\n",
       "      <td>0.019274</td>\n",
       "      <td>0.000641</td>\n",
       "      <td>0.128477</td>\n",
       "      <td>0.000276</td>\n",
       "    </tr>\n",
       "    <tr>\n",
       "      <th>FasterQDA_v2</th>\n",
       "      <td>1.55505</td>\n",
       "      <td>0.07225</td>\n",
       "      <td>0.11890</td>\n",
       "      <td>0.00550</td>\n",
       "      <td>0.990741</td>\n",
       "      <td>0.019149</td>\n",
       "      <td>0.000788</td>\n",
       "      <td>0.061057</td>\n",
       "      <td>0.000162</td>\n",
       "    </tr>\n",
       "    <tr>\n",
       "      <th>EfficientQDA</th>\n",
       "      <td>1.50490</td>\n",
       "      <td>0.04810</td>\n",
       "      <td>0.13555</td>\n",
       "      <td>0.00725</td>\n",
       "      <td>0.981481</td>\n",
       "      <td>0.018676</td>\n",
       "      <td>0.000751</td>\n",
       "      <td>0.094651</td>\n",
       "      <td>0.000509</td>\n",
       "    </tr>\n",
       "    <tr>\n",
       "      <th>QDA_Chol1</th>\n",
       "      <td>1.72855</td>\n",
       "      <td>0.21825</td>\n",
       "      <td>1.36640</td>\n",
       "      <td>0.01580</td>\n",
       "      <td>0.981481</td>\n",
       "      <td>0.018883</td>\n",
       "      <td>0.000298</td>\n",
       "      <td>0.008022</td>\n",
       "      <td>0.000057</td>\n",
       "    </tr>\n",
       "    <tr>\n",
       "      <th>QDA_Chol2</th>\n",
       "      <td>0.47215</td>\n",
       "      <td>0.11555</td>\n",
       "      <td>3.07555</td>\n",
       "      <td>0.04095</td>\n",
       "      <td>1.000000</td>\n",
       "      <td>0.019664</td>\n",
       "      <td>0.000736</td>\n",
       "      <td>0.008649</td>\n",
       "      <td>0.000333</td>\n",
       "    </tr>\n",
       "    <tr>\n",
       "      <th>QDA_Chol3</th>\n",
       "      <td>0.81475</td>\n",
       "      <td>0.23015</td>\n",
       "      <td>1.28770</td>\n",
       "      <td>0.08540</td>\n",
       "      <td>0.972222</td>\n",
       "      <td>0.018130</td>\n",
       "      <td>0.000104</td>\n",
       "      <td>0.007936</td>\n",
       "      <td>0.000132</td>\n",
       "    </tr>\n",
       "    <tr>\n",
       "      <th>TensorizedChol</th>\n",
       "      <td>0.47545</td>\n",
       "      <td>0.19825</td>\n",
       "      <td>1.59330</td>\n",
       "      <td>0.31810</td>\n",
       "      <td>0.925926</td>\n",
       "      <td>0.018082</td>\n",
       "      <td>0.001236</td>\n",
       "      <td>0.013573</td>\n",
       "      <td>0.000046</td>\n",
       "    </tr>\n",
       "    <tr>\n",
       "      <th>EfficientChol</th>\n",
       "      <td>0.55690</td>\n",
       "      <td>0.26610</td>\n",
       "      <td>0.14815</td>\n",
       "      <td>0.07385</td>\n",
       "      <td>0.944444</td>\n",
       "      <td>0.017193</td>\n",
       "      <td>0.000744</td>\n",
       "      <td>0.094002</td>\n",
       "      <td>0.000198</td>\n",
       "    </tr>\n",
       "  </tbody>\n",
       "</table>\n",
       "</div>"
      ],
      "text/plain": [
       "                train_mean_ms  train_std_ms  test_mean_ms  test_std_ms  \\\n",
       "model                                                                    \n",
       "QDA                   1.54430       0.12220       2.70360      0.56490   \n",
       "TensorizedQDA         1.48250       0.22080       1.31445      0.08665   \n",
       "FasterQDA             1.75705       0.49595       0.43505      0.34345   \n",
       "FasterQDA_v2          1.55505       0.07225       0.11890      0.00550   \n",
       "EfficientQDA          1.50490       0.04810       0.13555      0.00725   \n",
       "QDA_Chol1             1.72855       0.21825       1.36640      0.01580   \n",
       "QDA_Chol2             0.47215       0.11555       3.07555      0.04095   \n",
       "QDA_Chol3             0.81475       0.23015       1.28770      0.08540   \n",
       "TensorizedChol        0.47545       0.19825       1.59330      0.31810   \n",
       "EfficientChol         0.55690       0.26610       0.14815      0.07385   \n",
       "\n",
       "                mean_accuracy  train_mem_mean_mb  train_mem_std_mb  \\\n",
       "model                                                                \n",
       "QDA                  0.981481           0.019663          0.000251   \n",
       "TensorizedQDA        0.953704           0.019944          0.001127   \n",
       "FasterQDA            0.981481           0.019274          0.000641   \n",
       "FasterQDA_v2         0.990741           0.019149          0.000788   \n",
       "EfficientQDA         0.981481           0.018676          0.000751   \n",
       "QDA_Chol1            0.981481           0.018883          0.000298   \n",
       "QDA_Chol2            1.000000           0.019664          0.000736   \n",
       "QDA_Chol3            0.972222           0.018130          0.000104   \n",
       "TensorizedChol       0.925926           0.018082          0.001236   \n",
       "EfficientChol        0.944444           0.017193          0.000744   \n",
       "\n",
       "                test_mem_mean_mb  test_mem_std_mb  \n",
       "model                                              \n",
       "QDA                     0.008651         0.000531  \n",
       "TensorizedQDA           0.012379         0.000253  \n",
       "FasterQDA               0.128477         0.000276  \n",
       "FasterQDA_v2            0.061057         0.000162  \n",
       "EfficientQDA            0.094651         0.000509  \n",
       "QDA_Chol1               0.008022         0.000057  \n",
       "QDA_Chol2               0.008649         0.000333  \n",
       "QDA_Chol3               0.007936         0.000132  \n",
       "TensorizedChol          0.013573         0.000046  \n",
       "EfficientChol           0.094002         0.000198  "
      ]
     },
     "execution_count": 2354,
     "metadata": {},
     "output_type": "execute_result"
    }
   ],
   "source": [
    "b.summary()"
   ]
  },
  {
   "cell_type": "markdown",
   "metadata": {},
   "source": [
    "La que combina la mejor eficiencia entre tiempos de entrenamiento y tiempos de testeo es `EfficientChol`. Esto es lo esperado, ya que combina las eficiencias ganadas en la etapa de entrenamiento utilizando Cholesky en lugar de invertir la matriz de covarianzas directamente, con la eficiencia en entrenamiento ganada al tensorizar tanto en clases como en observaciones a la hora de hacer las predicciones para testear"
   ]
  },
  {
   "cell_type": "markdown",
   "metadata": {},
   "source": []
  }
 ],
 "metadata": {
  "colab": {
   "provenance": []
  },
  "kernelspec": {
   "display_name": "Python (ceia-amia-tp1)",
   "language": "python",
   "name": "ceia-amia-tp1"
  },
  "language_info": {
   "codemirror_mode": {
    "name": "ipython",
    "version": 3
   },
   "file_extension": ".py",
   "mimetype": "text/x-python",
   "name": "python",
   "nbconvert_exporter": "python",
   "pygments_lexer": "ipython3",
   "version": "3.13.0"
  }
 },
 "nbformat": 4,
 "nbformat_minor": 0
}
